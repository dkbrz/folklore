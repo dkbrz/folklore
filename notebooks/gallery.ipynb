{
 "cells": [
  {
   "cell_type": "code",
   "execution_count": 4,
   "metadata": {},
   "outputs": [],
   "source": [
    "import pandas as pd\n",
    "import re\n",
    "import os\n",
    "\n",
    "import mysql.connector\n",
    "db = mysql.connector.connect(user='dkbrz', password='password', database='folklore_v2')\n",
    "cur = db.cursor()"
   ]
  },
  {
   "cell_type": "code",
   "execution_count": 36,
   "metadata": {},
   "outputs": [],
   "source": [
    "from unidecode import unidecode"
   ]
  },
  {
   "cell_type": "code",
   "execution_count": 32,
   "metadata": {},
   "outputs": [
    {
     "data": {
      "text/plain": [
       "['sr', 'mn', 'mk', 'bg', 'uk', 'hy', 'ka', 'ru', 'el', 'l1']"
      ]
     },
     "execution_count": 32,
     "metadata": {},
     "output_type": "execute_result"
    }
   ],
   "source": [
    "get_available_language_codes()"
   ]
  },
  {
   "cell_type": "code",
   "execution_count": 38,
   "metadata": {},
   "outputs": [
    {
     "data": {
      "text/plain": [
       "'rospisi_v_palekhskoi_tserkvi_(1)'"
      ]
     },
     "execution_count": 38,
     "metadata": {},
     "output_type": "execute_result"
    }
   ],
   "source": [
    "unidecode('росписи_в_палехской_церкви_(1)')"
   ]
  },
  {
   "cell_type": "code",
   "execution_count": 12,
   "metadata": {},
   "outputs": [],
   "source": [
    "PATH = \"/home/dkbrz/github/folklore/folklore_app/static/gallery/\""
   ]
  },
  {
   "cell_type": "code",
   "execution_count": 13,
   "metadata": {},
   "outputs": [],
   "source": [
    "from collections import defaultdict"
   ]
  },
  {
   "cell_type": "code",
   "execution_count": 20,
   "metadata": {},
   "outputs": [],
   "source": [
    "counter = defaultdict(int)\n",
    "for root, dirs, files in os.walk(PATH):\n",
    "#     print(root, dirs, files)\n",
    "    for f in files:\n",
    "        tags = root.replace(PATH, \"\")\n",
    "        tags = tags.split(\"/\")\n",
    "        for t in tags:\n",
    "            counter[t] += 1"
   ]
  },
  {
   "cell_type": "code",
   "execution_count": 20,
   "metadata": {},
   "outputs": [],
   "source": [
    "cur.executemany(\"INSERT INTO glr_tags (tag) VALUES (%s)\", [(i,) for i in counter.keys()])\n",
    "db.commit()"
   ]
  },
  {
   "cell_type": "code",
   "execution_count": 40,
   "metadata": {},
   "outputs": [],
   "source": [
    "data = []\n",
    "idx = 1\n",
    "for root, dirs, files in os.walk(PATH):\n",
    "    for f in files:\n",
    "        if f[-3:].lower() != 'rtf':\n",
    "            tags = root.replace(PATH, \"\")\n",
    "            data.append((idx, tags, f))\n",
    "            idx += 1\n",
    "        else:\n",
    "            pass\n",
    "#             print(f)"
   ]
  },
  {
   "cell_type": "code",
   "execution_count": 41,
   "metadata": {},
   "outputs": [
    {
     "data": {
      "text/plain": [
       "[(1, 'Pskov_region/obryad/obereg', 'RG-Komary-16-Sebezhsk.JPG'),\n",
       " (2, 'Pskov_region/obryad/obereg', 'AAN-Sebezh-1.jpg'),\n",
       " (3, 'Pskov_region/obryad/obereg', 'RG-Komary-15-Sebezhsk.JPG'),\n",
       " (4, 'Pskov_region/obryad/obereg', 'NVV-Sebezh-1.jpg'),\n",
       " (5, 'Pskov_region/obryad/obereg', 'NVV-Sebezh-2.jpg')]"
      ]
     },
     "execution_count": 41,
     "metadata": {},
     "output_type": "execute_result"
    }
   ],
   "source": [
    "data[:5]"
   ]
  },
  {
   "cell_type": "code",
   "execution_count": 42,
   "metadata": {},
   "outputs": [],
   "source": [
    "cur.executemany(\"INSERT INTO glr_images (id, folder_path, image_name) VALUES (%s, %s, %s)\", data)\n",
    "db.commit()"
   ]
  },
  {
   "cell_type": "code",
   "execution_count": 43,
   "metadata": {},
   "outputs": [],
   "source": [
    "cur.execute(\"SELECT tag, id FROM glr_tags\")\n",
    "tag_map = dict(cur.fetchall())"
   ]
  },
  {
   "cell_type": "code",
   "execution_count": 44,
   "metadata": {},
   "outputs": [],
   "source": [
    "cur.execute(\"SELECT folder_path, id FROM glr_images\")\n",
    "data = cur.fetchall()"
   ]
  },
  {
   "cell_type": "code",
   "execution_count": 45,
   "metadata": {},
   "outputs": [],
   "source": [
    "image_tags = []\n",
    "for path, idx in data:\n",
    "    tags = path.split(\"/\")\n",
    "    for t in tags:\n",
    "        image_tags.append((idx, tag_map[t]))"
   ]
  },
  {
   "cell_type": "code",
   "execution_count": 46,
   "metadata": {},
   "outputs": [],
   "source": [
    "cur.executemany(\"INSERT INTO glr_image_tags (id_image, id_tag) VALUES (%s, %s)\", image_tags)\n",
    "db.commit()"
   ]
  },
  {
   "cell_type": "markdown",
   "metadata": {},
   "source": [
    "## tags"
   ]
  },
  {
   "cell_type": "code",
   "execution_count": 3,
   "metadata": {},
   "outputs": [],
   "source": [
    "df = pd.read_excel(\"/home/dkbrz/Downloads/latinica_kirillica.xlsx\")"
   ]
  },
  {
   "cell_type": "code",
   "execution_count": 6,
   "metadata": {},
   "outputs": [],
   "source": [
    "cur.executemany(\"UPDATE glr_tags SET rus = %s WHERE tag = %s\", df[[\"kirillica\", \"latinica\"]].values.tolist())\n",
    "db.commit()"
   ]
  },
  {
   "cell_type": "markdown",
   "metadata": {},
   "source": [
    "## renaming files"
   ]
  },
  {
   "cell_type": "code",
   "execution_count": 39,
   "metadata": {},
   "outputs": [],
   "source": [
    "for root, dirs, files in os.walk(PATH):\n",
    "    for f in files:\n",
    "#             fname = os.path.join(root, f)\n",
    "#             fname_ok = fname.replace(\" \", \"_\")\n",
    "#             os.rename(fname, fname_ok)\n",
    "        fname = os.path.join(root, f)\n",
    "        fname_ok = unidecode(fname)\n",
    "        os.rename(fname, fname_ok)\n",
    "#         print(f)"
   ]
  },
  {
   "cell_type": "markdown",
   "metadata": {},
   "source": [
    "## copy with new name id"
   ]
  },
  {
   "cell_type": "code",
   "execution_count": 12,
   "metadata": {},
   "outputs": [],
   "source": [
    "from shutil import copyfile\n",
    "from tqdm import tqdm"
   ]
  },
  {
   "cell_type": "code",
   "execution_count": null,
   "metadata": {},
   "outputs": [],
   "source": [
    "cur.execute(\"SELECT id, concat(folder_path, '/', image_name) FROM glr_images;\")\n",
    "imgs = cur.fetchall()\n",
    "imgs[:5]"
   ]
  },
  {
   "cell_type": "code",
   "execution_count": 14,
   "metadata": {},
   "outputs": [
    {
     "name": "stderr",
     "output_type": "stream",
     "text": [
      "100%|██████████| 2795/2795 [00:43<00:00, 64.54it/s] \n"
     ]
    }
   ],
   "source": [
    "PATH = \"../folklore_app/static/gallery/\"\n",
    "PATH_NEW = \"../folklore_app/static/gallery2/\"\n",
    "\n",
    "for idx, img in tqdm(imgs):\n",
    "    old_name = os.path.join(PATH, img)\n",
    "    new_name = os.path.join(PATH_NEW, str(idx) + '.' + img.split(\".\")[-1])\n",
    "    copyfile(old_name, new_name)"
   ]
  },
  {
   "cell_type": "code",
   "execution_count": 7,
   "metadata": {},
   "outputs": [
    {
     "data": {
      "text/plain": [
       "[(1, 'RG-Komary-16-Sebezhsk.JPG'),\n",
       " (2, 'AAN-Sebezh-1.jpg'),\n",
       " (3, 'RG-Komary-15-Sebezhsk.JPG'),\n",
       " (4, 'NVV-Sebezh-1.jpg'),\n",
       " (5, 'NVV-Sebezh-2.jpg')]"
      ]
     },
     "execution_count": 7,
     "metadata": {},
     "output_type": "execute_result"
    }
   ],
   "source": [
    "cur.execute(\"SELECT id, image_name FROM glr_images;\")\n",
    "imgs = cur.fetchall()\n",
    "imgs[:5]"
   ]
  },
  {
   "cell_type": "code",
   "execution_count": 9,
   "metadata": {},
   "outputs": [
    {
     "data": {
      "text/plain": [
       "[('1.JPG', 1), ('2.jpg', 2), ('3.JPG', 3), ('4.jpg', 4), ('5.jpg', 5)]"
      ]
     },
     "execution_count": 9,
     "metadata": {},
     "output_type": "execute_result"
    }
   ],
   "source": [
    "new_names = []\n",
    "for idx, img in imgs:\n",
    "    new = str(idx) + '.' + img.split(\".\")[-1]\n",
    "    new_names.append((new, idx))\n",
    "new_names[:5]"
   ]
  },
  {
   "cell_type": "code",
   "execution_count": 11,
   "metadata": {},
   "outputs": [],
   "source": [
    "cur.executemany(\"UPDATE glr_images SET image_id_name = %s WHERE id = %s\", new_names)\n",
    "db.commit()"
   ]
  },
  {
   "cell_type": "markdown",
   "metadata": {},
   "source": [
    "### texts to gallery"
   ]
  },
  {
   "cell_type": "code",
   "execution_count": 10,
   "metadata": {},
   "outputs": [],
   "source": [
    "from shutil import copyfile"
   ]
  },
  {
   "cell_type": "code",
   "execution_count": 24,
   "metadata": {},
   "outputs": [],
   "source": [
    "df = pd.read_sql_query(\"SELECT * FROM t_images\", con=db)"
   ]
  },
  {
   "cell_type": "code",
   "execution_count": 25,
   "metadata": {},
   "outputs": [],
   "source": [
    "PATH = \"/home/dkbrz/github/folklore/folklore_app/static/\""
   ]
  },
  {
   "cell_type": "code",
   "execution_count": 29,
   "metadata": {},
   "outputs": [],
   "source": [
    "idx = 2795\n",
    "indices = []\n",
    "for name in df[\"imagename\"].values:\n",
    "    idx += 1\n",
    "    new_name = str(idx) + \".\" + name.split(\".\")[-1].lower()\n",
    "    copyfile(os.path.join(PATH, \"imgs\", name), os.path.join(PATH, \"gallery\", new_name))\n",
    "    indices.append([name, new_name, idx])"
   ]
  },
  {
   "cell_type": "code",
   "execution_count": 30,
   "metadata": {},
   "outputs": [],
   "source": [
    "indices = pd.DataFrame(indices, columns=[\"imagename\", \"image_id_name\", \"idx\"])"
   ]
  },
  {
   "cell_type": "code",
   "execution_count": null,
   "metadata": {},
   "outputs": [],
   "source": []
  },
  {
   "cell_type": "code",
   "execution_count": 31,
   "metadata": {},
   "outputs": [
    {
     "data": {
      "text/html": [
       "<div>\n",
       "<style scoped>\n",
       "    .dataframe tbody tr th:only-of-type {\n",
       "        vertical-align: middle;\n",
       "    }\n",
       "\n",
       "    .dataframe tbody tr th {\n",
       "        vertical-align: top;\n",
       "    }\n",
       "\n",
       "    .dataframe thead th {\n",
       "        text-align: right;\n",
       "    }\n",
       "</style>\n",
       "<table border=\"1\" class=\"dataframe\">\n",
       "  <thead>\n",
       "    <tr style=\"text-align: right;\">\n",
       "      <th></th>\n",
       "      <th>id</th>\n",
       "      <th>id_text</th>\n",
       "      <th>imagename</th>\n",
       "      <th>image_id_name</th>\n",
       "      <th>idx</th>\n",
       "    </tr>\n",
       "  </thead>\n",
       "  <tbody>\n",
       "    <tr>\n",
       "      <th>0</th>\n",
       "      <td>1</td>\n",
       "      <td>2442</td>\n",
       "      <td>2442/Shurubovka_Broshennyj_dom.jpg</td>\n",
       "      <td>2796.jpg</td>\n",
       "      <td>2796</td>\n",
       "    </tr>\n",
       "    <tr>\n",
       "      <th>1</th>\n",
       "      <td>2</td>\n",
       "      <td>3989</td>\n",
       "      <td>3989/NFL-3-001.jpg</td>\n",
       "      <td>2797.jpg</td>\n",
       "      <td>2797</td>\n",
       "    </tr>\n",
       "    <tr>\n",
       "      <th>2</th>\n",
       "      <td>3</td>\n",
       "      <td>3989</td>\n",
       "      <td>3989/NFL-3-002.jpg</td>\n",
       "      <td>2798.jpg</td>\n",
       "      <td>2798</td>\n",
       "    </tr>\n",
       "    <tr>\n",
       "      <th>3</th>\n",
       "      <td>4</td>\n",
       "      <td>3989</td>\n",
       "      <td>3989/NFL-3-003.jpg</td>\n",
       "      <td>2799.jpg</td>\n",
       "      <td>2799</td>\n",
       "    </tr>\n",
       "    <tr>\n",
       "      <th>4</th>\n",
       "      <td>5</td>\n",
       "      <td>3989</td>\n",
       "      <td>3989/NFL-3-004.jpg</td>\n",
       "      <td>2800.jpg</td>\n",
       "      <td>2800</td>\n",
       "    </tr>\n",
       "    <tr>\n",
       "      <th>...</th>\n",
       "      <td>...</td>\n",
       "      <td>...</td>\n",
       "      <td>...</td>\n",
       "      <td>...</td>\n",
       "      <td>...</td>\n",
       "    </tr>\n",
       "    <tr>\n",
       "      <th>352</th>\n",
       "      <td>353</td>\n",
       "      <td>2628</td>\n",
       "      <td>2628/Mogila-kolduna-Rogov-Zlynk-2.jpg</td>\n",
       "      <td>3148.jpg</td>\n",
       "      <td>3148</td>\n",
       "    </tr>\n",
       "    <tr>\n",
       "      <th>353</th>\n",
       "      <td>354</td>\n",
       "      <td>1664</td>\n",
       "      <td>1664/DAM_M.Scherbinichi-Verba-01_Briansk_Zlynk...</td>\n",
       "      <td>3149.jpg</td>\n",
       "      <td>3149</td>\n",
       "    </tr>\n",
       "    <tr>\n",
       "      <th>354</th>\n",
       "      <td>355</td>\n",
       "      <td>1664</td>\n",
       "      <td>1664/DAM_M.Scherbinichi-Verba-02_Briansk_Zlynk...</td>\n",
       "      <td>3150.jpg</td>\n",
       "      <td>3150</td>\n",
       "    </tr>\n",
       "    <tr>\n",
       "      <th>355</th>\n",
       "      <td>356</td>\n",
       "      <td>1664</td>\n",
       "      <td>1664/DAM_M.Scherbinichi_Kupala_Krapiva-02_Bria...</td>\n",
       "      <td>3151.jpg</td>\n",
       "      <td>3151</td>\n",
       "    </tr>\n",
       "    <tr>\n",
       "      <th>356</th>\n",
       "      <td>357</td>\n",
       "      <td>1664</td>\n",
       "      <td>1664/DAM_M.Scherbinichi_Kupala_Krapiva-06_Bria...</td>\n",
       "      <td>3152.jpg</td>\n",
       "      <td>3152</td>\n",
       "    </tr>\n",
       "  </tbody>\n",
       "</table>\n",
       "<p>357 rows × 5 columns</p>\n",
       "</div>"
      ],
      "text/plain": [
       "      id  id_text                                          imagename  \\\n",
       "0      1     2442                 2442/Shurubovka_Broshennyj_dom.jpg   \n",
       "1      2     3989                                 3989/NFL-3-001.jpg   \n",
       "2      3     3989                                 3989/NFL-3-002.jpg   \n",
       "3      4     3989                                 3989/NFL-3-003.jpg   \n",
       "4      5     3989                                 3989/NFL-3-004.jpg   \n",
       "..   ...      ...                                                ...   \n",
       "352  353     2628              2628/Mogila-kolduna-Rogov-Zlynk-2.jpg   \n",
       "353  354     1664  1664/DAM_M.Scherbinichi-Verba-01_Briansk_Zlynk...   \n",
       "354  355     1664  1664/DAM_M.Scherbinichi-Verba-02_Briansk_Zlynk...   \n",
       "355  356     1664  1664/DAM_M.Scherbinichi_Kupala_Krapiva-02_Bria...   \n",
       "356  357     1664  1664/DAM_M.Scherbinichi_Kupala_Krapiva-06_Bria...   \n",
       "\n",
       "    image_id_name   idx  \n",
       "0        2796.jpg  2796  \n",
       "1        2797.jpg  2797  \n",
       "2        2798.jpg  2798  \n",
       "3        2799.jpg  2799  \n",
       "4        2800.jpg  2800  \n",
       "..            ...   ...  \n",
       "352      3148.jpg  3148  \n",
       "353      3149.jpg  3149  \n",
       "354      3150.jpg  3150  \n",
       "355      3151.jpg  3151  \n",
       "356      3152.jpg  3152  \n",
       "\n",
       "[357 rows x 5 columns]"
      ]
     },
     "execution_count": 31,
     "metadata": {},
     "output_type": "execute_result"
    }
   ],
   "source": [
    "total = df.merge(indices)\n",
    "total"
   ]
  },
  {
   "cell_type": "code",
   "execution_count": 34,
   "metadata": {},
   "outputs": [
    {
     "data": {
      "text/html": [
       "<div>\n",
       "<style scoped>\n",
       "    .dataframe tbody tr th:only-of-type {\n",
       "        vertical-align: middle;\n",
       "    }\n",
       "\n",
       "    .dataframe tbody tr th {\n",
       "        vertical-align: top;\n",
       "    }\n",
       "\n",
       "    .dataframe thead th {\n",
       "        text-align: right;\n",
       "    }\n",
       "</style>\n",
       "<table border=\"1\" class=\"dataframe\">\n",
       "  <thead>\n",
       "    <tr style=\"text-align: right;\">\n",
       "      <th></th>\n",
       "      <th>id</th>\n",
       "      <th>image_id_name</th>\n",
       "      <th>image_name</th>\n",
       "    </tr>\n",
       "  </thead>\n",
       "  <tbody>\n",
       "    <tr>\n",
       "      <th>0</th>\n",
       "      <td>2796</td>\n",
       "      <td>2796.jpg</td>\n",
       "      <td>2442/Shurubovka_Broshennyj_dom.jpg</td>\n",
       "    </tr>\n",
       "    <tr>\n",
       "      <th>1</th>\n",
       "      <td>2797</td>\n",
       "      <td>2797.jpg</td>\n",
       "      <td>3989/NFL-3-001.jpg</td>\n",
       "    </tr>\n",
       "    <tr>\n",
       "      <th>2</th>\n",
       "      <td>2798</td>\n",
       "      <td>2798.jpg</td>\n",
       "      <td>3989/NFL-3-002.jpg</td>\n",
       "    </tr>\n",
       "    <tr>\n",
       "      <th>3</th>\n",
       "      <td>2799</td>\n",
       "      <td>2799.jpg</td>\n",
       "      <td>3989/NFL-3-003.jpg</td>\n",
       "    </tr>\n",
       "    <tr>\n",
       "      <th>4</th>\n",
       "      <td>2800</td>\n",
       "      <td>2800.jpg</td>\n",
       "      <td>3989/NFL-3-004.jpg</td>\n",
       "    </tr>\n",
       "    <tr>\n",
       "      <th>...</th>\n",
       "      <td>...</td>\n",
       "      <td>...</td>\n",
       "      <td>...</td>\n",
       "    </tr>\n",
       "    <tr>\n",
       "      <th>352</th>\n",
       "      <td>3148</td>\n",
       "      <td>3148.jpg</td>\n",
       "      <td>2628/Mogila-kolduna-Rogov-Zlynk-2.jpg</td>\n",
       "    </tr>\n",
       "    <tr>\n",
       "      <th>353</th>\n",
       "      <td>3149</td>\n",
       "      <td>3149.jpg</td>\n",
       "      <td>1664/DAM_M.Scherbinichi-Verba-01_Briansk_Zlynk...</td>\n",
       "    </tr>\n",
       "    <tr>\n",
       "      <th>354</th>\n",
       "      <td>3150</td>\n",
       "      <td>3150.jpg</td>\n",
       "      <td>1664/DAM_M.Scherbinichi-Verba-02_Briansk_Zlynk...</td>\n",
       "    </tr>\n",
       "    <tr>\n",
       "      <th>355</th>\n",
       "      <td>3151</td>\n",
       "      <td>3151.jpg</td>\n",
       "      <td>1664/DAM_M.Scherbinichi_Kupala_Krapiva-02_Bria...</td>\n",
       "    </tr>\n",
       "    <tr>\n",
       "      <th>356</th>\n",
       "      <td>3152</td>\n",
       "      <td>3152.jpg</td>\n",
       "      <td>1664/DAM_M.Scherbinichi_Kupala_Krapiva-06_Bria...</td>\n",
       "    </tr>\n",
       "  </tbody>\n",
       "</table>\n",
       "<p>357 rows × 3 columns</p>\n",
       "</div>"
      ],
      "text/plain": [
       "       id image_id_name                                         image_name\n",
       "0    2796      2796.jpg                 2442/Shurubovka_Broshennyj_dom.jpg\n",
       "1    2797      2797.jpg                                 3989/NFL-3-001.jpg\n",
       "2    2798      2798.jpg                                 3989/NFL-3-002.jpg\n",
       "3    2799      2799.jpg                                 3989/NFL-3-003.jpg\n",
       "4    2800      2800.jpg                                 3989/NFL-3-004.jpg\n",
       "..    ...           ...                                                ...\n",
       "352  3148      3148.jpg              2628/Mogila-kolduna-Rogov-Zlynk-2.jpg\n",
       "353  3149      3149.jpg  1664/DAM_M.Scherbinichi-Verba-01_Briansk_Zlynk...\n",
       "354  3150      3150.jpg  1664/DAM_M.Scherbinichi-Verba-02_Briansk_Zlynk...\n",
       "355  3151      3151.jpg  1664/DAM_M.Scherbinichi_Kupala_Krapiva-02_Bria...\n",
       "356  3152      3152.jpg  1664/DAM_M.Scherbinichi_Kupala_Krapiva-06_Bria...\n",
       "\n",
       "[357 rows x 3 columns]"
      ]
     },
     "execution_count": 34,
     "metadata": {},
     "output_type": "execute_result"
    }
   ],
   "source": [
    "image_table = total[[\"idx\", \"image_id_name\", \"imagename\"]]\n",
    "image_table.columns = [\"id\", \"image_id_name\", \"image_name\"]\n",
    "image_table"
   ]
  },
  {
   "cell_type": "code",
   "execution_count": 36,
   "metadata": {},
   "outputs": [],
   "source": [
    "cur.executemany(\"INSERT INTO glr_images (id, image_id_name, image_name) VALUES (%s, %s, %s)\", image_table.values.tolist())\n",
    "db.commit()"
   ]
  },
  {
   "cell_type": "code",
   "execution_count": 38,
   "metadata": {},
   "outputs": [
    {
     "data": {
      "text/html": [
       "<div>\n",
       "<style scoped>\n",
       "    .dataframe tbody tr th:only-of-type {\n",
       "        vertical-align: middle;\n",
       "    }\n",
       "\n",
       "    .dataframe tbody tr th {\n",
       "        vertical-align: top;\n",
       "    }\n",
       "\n",
       "    .dataframe thead th {\n",
       "        text-align: right;\n",
       "    }\n",
       "</style>\n",
       "<table border=\"1\" class=\"dataframe\">\n",
       "  <thead>\n",
       "    <tr style=\"text-align: right;\">\n",
       "      <th></th>\n",
       "      <th>id</th>\n",
       "      <th>id_text</th>\n",
       "      <th>imagename</th>\n",
       "      <th>image_id_name</th>\n",
       "      <th>idx</th>\n",
       "    </tr>\n",
       "  </thead>\n",
       "  <tbody>\n",
       "    <tr>\n",
       "      <th>0</th>\n",
       "      <td>1</td>\n",
       "      <td>2442</td>\n",
       "      <td>2442/Shurubovka_Broshennyj_dom.jpg</td>\n",
       "      <td>2796.jpg</td>\n",
       "      <td>2796</td>\n",
       "    </tr>\n",
       "    <tr>\n",
       "      <th>1</th>\n",
       "      <td>2</td>\n",
       "      <td>3989</td>\n",
       "      <td>3989/NFL-3-001.jpg</td>\n",
       "      <td>2797.jpg</td>\n",
       "      <td>2797</td>\n",
       "    </tr>\n",
       "    <tr>\n",
       "      <th>2</th>\n",
       "      <td>3</td>\n",
       "      <td>3989</td>\n",
       "      <td>3989/NFL-3-002.jpg</td>\n",
       "      <td>2798.jpg</td>\n",
       "      <td>2798</td>\n",
       "    </tr>\n",
       "    <tr>\n",
       "      <th>3</th>\n",
       "      <td>4</td>\n",
       "      <td>3989</td>\n",
       "      <td>3989/NFL-3-003.jpg</td>\n",
       "      <td>2799.jpg</td>\n",
       "      <td>2799</td>\n",
       "    </tr>\n",
       "    <tr>\n",
       "      <th>4</th>\n",
       "      <td>5</td>\n",
       "      <td>3989</td>\n",
       "      <td>3989/NFL-3-004.jpg</td>\n",
       "      <td>2800.jpg</td>\n",
       "      <td>2800</td>\n",
       "    </tr>\n",
       "  </tbody>\n",
       "</table>\n",
       "</div>"
      ],
      "text/plain": [
       "   id  id_text                           imagename image_id_name   idx\n",
       "0   1     2442  2442/Shurubovka_Broshennyj_dom.jpg      2796.jpg  2796\n",
       "1   2     3989                  3989/NFL-3-001.jpg      2797.jpg  2797\n",
       "2   3     3989                  3989/NFL-3-002.jpg      2798.jpg  2798\n",
       "3   4     3989                  3989/NFL-3-003.jpg      2799.jpg  2799\n",
       "4   5     3989                  3989/NFL-3-004.jpg      2800.jpg  2800"
      ]
     },
     "execution_count": 38,
     "metadata": {},
     "output_type": "execute_result"
    }
   ],
   "source": [
    "total.head()"
   ]
  },
  {
   "cell_type": "code",
   "execution_count": 40,
   "metadata": {},
   "outputs": [
    {
     "data": {
      "text/html": [
       "<div>\n",
       "<style scoped>\n",
       "    .dataframe tbody tr th:only-of-type {\n",
       "        vertical-align: middle;\n",
       "    }\n",
       "\n",
       "    .dataframe tbody tr th {\n",
       "        vertical-align: top;\n",
       "    }\n",
       "\n",
       "    .dataframe thead th {\n",
       "        text-align: right;\n",
       "    }\n",
       "</style>\n",
       "<table border=\"1\" class=\"dataframe\">\n",
       "  <thead>\n",
       "    <tr style=\"text-align: right;\">\n",
       "      <th></th>\n",
       "      <th>id_text</th>\n",
       "      <th>id_image</th>\n",
       "    </tr>\n",
       "  </thead>\n",
       "  <tbody>\n",
       "    <tr>\n",
       "      <th>0</th>\n",
       "      <td>2442</td>\n",
       "      <td>2796</td>\n",
       "    </tr>\n",
       "    <tr>\n",
       "      <th>1</th>\n",
       "      <td>3989</td>\n",
       "      <td>2797</td>\n",
       "    </tr>\n",
       "    <tr>\n",
       "      <th>2</th>\n",
       "      <td>3989</td>\n",
       "      <td>2798</td>\n",
       "    </tr>\n",
       "    <tr>\n",
       "      <th>3</th>\n",
       "      <td>3989</td>\n",
       "      <td>2799</td>\n",
       "    </tr>\n",
       "    <tr>\n",
       "      <th>4</th>\n",
       "      <td>3989</td>\n",
       "      <td>2800</td>\n",
       "    </tr>\n",
       "    <tr>\n",
       "      <th>...</th>\n",
       "      <td>...</td>\n",
       "      <td>...</td>\n",
       "    </tr>\n",
       "    <tr>\n",
       "      <th>352</th>\n",
       "      <td>2628</td>\n",
       "      <td>3148</td>\n",
       "    </tr>\n",
       "    <tr>\n",
       "      <th>353</th>\n",
       "      <td>1664</td>\n",
       "      <td>3149</td>\n",
       "    </tr>\n",
       "    <tr>\n",
       "      <th>354</th>\n",
       "      <td>1664</td>\n",
       "      <td>3150</td>\n",
       "    </tr>\n",
       "    <tr>\n",
       "      <th>355</th>\n",
       "      <td>1664</td>\n",
       "      <td>3151</td>\n",
       "    </tr>\n",
       "    <tr>\n",
       "      <th>356</th>\n",
       "      <td>1664</td>\n",
       "      <td>3152</td>\n",
       "    </tr>\n",
       "  </tbody>\n",
       "</table>\n",
       "<p>357 rows × 2 columns</p>\n",
       "</div>"
      ],
      "text/plain": [
       "     id_text  id_image\n",
       "0       2442      2796\n",
       "1       3989      2797\n",
       "2       3989      2798\n",
       "3       3989      2799\n",
       "4       3989      2800\n",
       "..       ...       ...\n",
       "352     2628      3148\n",
       "353     1664      3149\n",
       "354     1664      3150\n",
       "355     1664      3151\n",
       "356     1664      3152\n",
       "\n",
       "[357 rows x 2 columns]"
      ]
     },
     "execution_count": 40,
     "metadata": {},
     "output_type": "execute_result"
    }
   ],
   "source": [
    "to_text = total[[\"id_text\", \"idx\"]]\n",
    "to_text.columns = [\"id_text\", \"id_image\"]\n",
    "\n",
    "to_text"
   ]
  },
  {
   "cell_type": "code",
   "execution_count": 42,
   "metadata": {},
   "outputs": [],
   "source": [
    "cur.executemany(\"INSERT INTO t_images2 (id_text, id_image) VALUES (%s, %s)\", to_text.values.tolist())\n",
    "db.commit()"
   ]
  }
 ],
 "metadata": {
  "kernelspec": {
   "display_name": "Python 3",
   "language": "python",
   "name": "python3"
  },
  "language_info": {
   "codemirror_mode": {
    "name": "ipython",
    "version": 3
   },
   "file_extension": ".py",
   "mimetype": "text/x-python",
   "name": "python",
   "nbconvert_exporter": "python",
   "pygments_lexer": "ipython3",
   "version": "3.8.5"
  }
 },
 "nbformat": 4,
 "nbformat_minor": 2
}
