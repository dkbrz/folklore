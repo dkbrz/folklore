{
 "cells": [
  {
   "cell_type": "code",
   "execution_count": 3,
   "metadata": {},
   "outputs": [],
   "source": [
    "import pandas as pd\n",
    "import re\n",
    "import os\n",
    "\n",
    "import mysql.connector\n",
    "db = mysql.connector.connect(user='dkbrz', password='password', database='folklore_v2')\n",
    "cur = db.cursor()"
   ]
  },
  {
   "cell_type": "code",
   "execution_count": 36,
   "metadata": {},
   "outputs": [],
   "source": [
    "from unidecode import unidecode"
   ]
  },
  {
   "cell_type": "code",
   "execution_count": 32,
   "metadata": {},
   "outputs": [
    {
     "data": {
      "text/plain": [
       "['sr', 'mn', 'mk', 'bg', 'uk', 'hy', 'ka', 'ru', 'el', 'l1']"
      ]
     },
     "execution_count": 32,
     "metadata": {},
     "output_type": "execute_result"
    }
   ],
   "source": [
    "get_available_language_codes()"
   ]
  },
  {
   "cell_type": "code",
   "execution_count": 38,
   "metadata": {},
   "outputs": [
    {
     "data": {
      "text/plain": [
       "'rospisi_v_palekhskoi_tserkvi_(1)'"
      ]
     },
     "execution_count": 38,
     "metadata": {},
     "output_type": "execute_result"
    }
   ],
   "source": [
    "unidecode('росписи_в_палехской_церкви_(1)')"
   ]
  },
  {
   "cell_type": "code",
   "execution_count": 12,
   "metadata": {},
   "outputs": [],
   "source": [
    "PATH = \"/home/dkbrz/github/folklore/folklore_app/static/gallery/\""
   ]
  },
  {
   "cell_type": "code",
   "execution_count": 13,
   "metadata": {},
   "outputs": [],
   "source": [
    "from collections import defaultdict"
   ]
  },
  {
   "cell_type": "code",
   "execution_count": 20,
   "metadata": {},
   "outputs": [],
   "source": [
    "counter = defaultdict(int)\n",
    "for root, dirs, files in os.walk(PATH):\n",
    "#     print(root, dirs, files)\n",
    "    for f in files:\n",
    "        tags = root.replace(PATH, \"\")\n",
    "        tags = tags.split(\"/\")\n",
    "        for t in tags:\n",
    "            counter[t] += 1"
   ]
  },
  {
   "cell_type": "code",
   "execution_count": 20,
   "metadata": {},
   "outputs": [],
   "source": [
    "cur.executemany(\"INSERT INTO glr_tags (tag) VALUES (%s)\", [(i,) for i in counter.keys()])\n",
    "db.commit()"
   ]
  },
  {
   "cell_type": "code",
   "execution_count": 40,
   "metadata": {},
   "outputs": [],
   "source": [
    "data = []\n",
    "idx = 1\n",
    "for root, dirs, files in os.walk(PATH):\n",
    "    for f in files:\n",
    "        if f[-3:].lower() != 'rtf':\n",
    "            tags = root.replace(PATH, \"\")\n",
    "            data.append((idx, tags, f))\n",
    "            idx += 1\n",
    "        else:\n",
    "            pass\n",
    "#             print(f)"
   ]
  },
  {
   "cell_type": "code",
   "execution_count": 41,
   "metadata": {},
   "outputs": [
    {
     "data": {
      "text/plain": [
       "[(1, 'Pskov_region/obryad/obereg', 'RG-Komary-16-Sebezhsk.JPG'),\n",
       " (2, 'Pskov_region/obryad/obereg', 'AAN-Sebezh-1.jpg'),\n",
       " (3, 'Pskov_region/obryad/obereg', 'RG-Komary-15-Sebezhsk.JPG'),\n",
       " (4, 'Pskov_region/obryad/obereg', 'NVV-Sebezh-1.jpg'),\n",
       " (5, 'Pskov_region/obryad/obereg', 'NVV-Sebezh-2.jpg')]"
      ]
     },
     "execution_count": 41,
     "metadata": {},
     "output_type": "execute_result"
    }
   ],
   "source": [
    "data[:5]"
   ]
  },
  {
   "cell_type": "code",
   "execution_count": 42,
   "metadata": {},
   "outputs": [],
   "source": [
    "cur.executemany(\"INSERT INTO glr_images (id, folder_path, image_name) VALUES (%s, %s, %s)\", data)\n",
    "db.commit()"
   ]
  },
  {
   "cell_type": "code",
   "execution_count": 43,
   "metadata": {},
   "outputs": [],
   "source": [
    "cur.execute(\"SELECT tag, id FROM glr_tags\")\n",
    "tag_map = dict(cur.fetchall())"
   ]
  },
  {
   "cell_type": "code",
   "execution_count": 44,
   "metadata": {},
   "outputs": [],
   "source": [
    "cur.execute(\"SELECT folder_path, id FROM glr_images\")\n",
    "data = cur.fetchall()"
   ]
  },
  {
   "cell_type": "code",
   "execution_count": 45,
   "metadata": {},
   "outputs": [],
   "source": [
    "image_tags = []\n",
    "for path, idx in data:\n",
    "    tags = path.split(\"/\")\n",
    "    for t in tags:\n",
    "        image_tags.append((idx, tag_map[t]))"
   ]
  },
  {
   "cell_type": "code",
   "execution_count": 46,
   "metadata": {},
   "outputs": [],
   "source": [
    "cur.executemany(\"INSERT INTO glr_image_tags (id_image, id_tag) VALUES (%s, %s)\", image_tags)\n",
    "db.commit()"
   ]
  },
  {
   "cell_type": "markdown",
   "metadata": {},
   "source": [
    "## tags"
   ]
  },
  {
   "cell_type": "code",
   "execution_count": 3,
   "metadata": {},
   "outputs": [],
   "source": [
    "df = pd.read_excel(\"/home/dkbrz/Downloads/latinica_kirillica.xlsx\")"
   ]
  },
  {
   "cell_type": "code",
   "execution_count": 6,
   "metadata": {},
   "outputs": [],
   "source": [
    "cur.executemany(\"UPDATE glr_tags SET rus = %s WHERE tag = %s\", df[[\"kirillica\", \"latinica\"]].values.tolist())\n",
    "db.commit()"
   ]
  },
  {
   "cell_type": "markdown",
   "metadata": {},
   "source": [
    "## renaming files"
   ]
  },
  {
   "cell_type": "code",
   "execution_count": 39,
   "metadata": {},
   "outputs": [],
   "source": [
    "for root, dirs, files in os.walk(PATH):\n",
    "    for f in files:\n",
    "#             fname = os.path.join(root, f)\n",
    "#             fname_ok = fname.replace(\" \", \"_\")\n",
    "#             os.rename(fname, fname_ok)\n",
    "        fname = os.path.join(root, f)\n",
    "        fname_ok = unidecode(fname)\n",
    "        os.rename(fname, fname_ok)\n",
    "#         print(f)"
   ]
  },
  {
   "cell_type": "markdown",
   "metadata": {},
   "source": [
    "## copy with new name id"
   ]
  },
  {
   "cell_type": "code",
   "execution_count": 12,
   "metadata": {},
   "outputs": [],
   "source": [
    "from shutil import copyfile\n",
    "from tqdm import tqdm"
   ]
  },
  {
   "cell_type": "code",
   "execution_count": null,
   "metadata": {},
   "outputs": [],
   "source": [
    "cur.execute(\"SELECT id, concat(folder_path, '/', image_name) FROM glr_images;\")\n",
    "imgs = cur.fetchall()\n",
    "imgs[:5]"
   ]
  },
  {
   "cell_type": "code",
   "execution_count": 14,
   "metadata": {},
   "outputs": [
    {
     "name": "stderr",
     "output_type": "stream",
     "text": [
      "100%|██████████| 2795/2795 [00:43<00:00, 64.54it/s] \n"
     ]
    }
   ],
   "source": [
    "PATH = \"../folklore_app/static/gallery/\"\n",
    "PATH_NEW = \"../folklore_app/static/gallery2/\"\n",
    "\n",
    "for idx, img in tqdm(imgs):\n",
    "    old_name = os.path.join(PATH, img)\n",
    "    new_name = os.path.join(PATH_NEW, str(idx) + '.' + img.split(\".\")[-1])\n",
    "    copyfile(old_name, new_name)"
   ]
  },
  {
   "cell_type": "code",
   "execution_count": 7,
   "metadata": {},
   "outputs": [
    {
     "data": {
      "text/plain": [
       "[(1, 'RG-Komary-16-Sebezhsk.JPG'),\n",
       " (2, 'AAN-Sebezh-1.jpg'),\n",
       " (3, 'RG-Komary-15-Sebezhsk.JPG'),\n",
       " (4, 'NVV-Sebezh-1.jpg'),\n",
       " (5, 'NVV-Sebezh-2.jpg')]"
      ]
     },
     "execution_count": 7,
     "metadata": {},
     "output_type": "execute_result"
    }
   ],
   "source": [
    "cur.execute(\"SELECT id, image_name FROM glr_images;\")\n",
    "imgs = cur.fetchall()\n",
    "imgs[:5]"
   ]
  },
  {
   "cell_type": "code",
   "execution_count": 9,
   "metadata": {},
   "outputs": [
    {
     "data": {
      "text/plain": [
       "[('1.JPG', 1), ('2.jpg', 2), ('3.JPG', 3), ('4.jpg', 4), ('5.jpg', 5)]"
      ]
     },
     "execution_count": 9,
     "metadata": {},
     "output_type": "execute_result"
    }
   ],
   "source": [
    "new_names = []\n",
    "for idx, img in imgs:\n",
    "    new = str(idx) + '.' + img.split(\".\")[-1]\n",
    "    new_names.append((new, idx))\n",
    "new_names[:5]"
   ]
  },
  {
   "cell_type": "code",
   "execution_count": 11,
   "metadata": {},
   "outputs": [],
   "source": [
    "cur.executemany(\"UPDATE glr_images SET image_id_name = %s WHERE id = %s\", new_names)\n",
    "db.commit()"
   ]
  }
 ],
 "metadata": {
  "kernelspec": {
   "display_name": "Python 3",
   "language": "python",
   "name": "python3"
  },
  "language_info": {
   "codemirror_mode": {
    "name": "ipython",
    "version": 3
   },
   "file_extension": ".py",
   "mimetype": "text/x-python",
   "name": "python",
   "nbconvert_exporter": "python",
   "pygments_lexer": "ipython3",
   "version": "3.8.5"
  }
 },
 "nbformat": 4,
 "nbformat_minor": 2
}
