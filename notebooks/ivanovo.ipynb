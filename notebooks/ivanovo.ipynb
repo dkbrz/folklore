{
 "cells": [
  {
   "cell_type": "code",
   "execution_count": 1,
   "metadata": {},
   "outputs": [],
   "source": [
    "import pandas as pd\n",
    "import re"
   ]
  },
  {
   "cell_type": "code",
   "execution_count": 51,
   "metadata": {},
   "outputs": [],
   "source": [
    "import mysql.connector\n",
    "db = mysql.connector.connect(user='root', password='password', database='folklore_db2')\n",
    "cur = db.cursor()"
   ]
  },
  {
   "cell_type": "code",
   "execution_count": 3,
   "metadata": {},
   "outputs": [],
   "source": [
    "from collections import defaultdict"
   ]
  },
  {
   "cell_type": "code",
   "execution_count": 52,
   "metadata": {},
   "outputs": [],
   "source": [
    "cur.execute(\"SELECT word, id FROM keywords\")\n",
    "keywords = {x.lower().strip('.'): y for x, y in cur.fetchall()}"
   ]
  },
  {
   "cell_type": "code",
   "execution_count": null,
   "metadata": {},
   "outputs": [],
   "source": [
    "# from numpy import nan\n",
    "# from collections import namedtuple\n",
    "# import time\n",
    "\n",
    "# from pymystem3 import Mystem\n",
    "# m = Mystem()"
   ]
  },
  {
   "cell_type": "code",
   "execution_count": 5,
   "metadata": {},
   "outputs": [],
   "source": [
    "table = pd.read_excel('./2020_file/Таблица_архив.xlsx', sheet_name=None)"
   ]
  },
  {
   "cell_type": "markdown",
   "metadata": {},
   "source": [
    "## Проверка"
   ]
  },
  {
   "cell_type": "code",
   "execution_count": 6,
   "metadata": {},
   "outputs": [
    {
     "data": {
      "text/plain": [
       "dict_keys(['Лист 1', 'informators', 'collectors', 'Настя', 'Аня', 'Настя См.', 'Сюзанна', 'ошибки в ключевых словах'])"
      ]
     },
     "execution_count": 6,
     "metadata": {},
     "output_type": "execute_result"
    }
   ],
   "source": [
    "table.keys()"
   ]
  },
  {
   "cell_type": "code",
   "execution_count": 7,
   "metadata": {},
   "outputs": [],
   "source": [
    "real = [\"Настя\", \"Настя См.\", \"Сюзанна\"]"
   ]
  },
  {
   "cell_type": "code",
   "execution_count": 8,
   "metadata": {},
   "outputs": [],
   "source": [
    "df = pd.concat([table[who] for who in real])"
   ]
  },
  {
   "cell_type": "code",
   "execution_count": 9,
   "metadata": {},
   "outputs": [
    {
     "data": {
      "text/html": [
       "<div>\n",
       "<style scoped>\n",
       "    .dataframe tbody tr th:only-of-type {\n",
       "        vertical-align: middle;\n",
       "    }\n",
       "\n",
       "    .dataframe tbody tr th {\n",
       "        vertical-align: top;\n",
       "    }\n",
       "\n",
       "    .dataframe thead th {\n",
       "        text-align: right;\n",
       "    }\n",
       "</style>\n",
       "<table border=\"1\" class=\"dataframe\">\n",
       "  <thead>\n",
       "    <tr style=\"text-align: right;\">\n",
       "      <th></th>\n",
       "      <th>id</th>\n",
       "      <th>год</th>\n",
       "      <th>жанр</th>\n",
       "      <th>ключевые слова</th>\n",
       "      <th>ссылка на текст</th>\n",
       "      <th>ссылка на аудио</th>\n",
       "      <th>ссылка на видео</th>\n",
       "      <th>время начала</th>\n",
       "      <th>время конца</th>\n",
       "      <th>регион</th>\n",
       "      <th>район</th>\n",
       "      <th>деревня</th>\n",
       "      <th>адрес</th>\n",
       "      <th>информанты</th>\n",
       "      <th>собиратели</th>\n",
       "      <th>год рождения</th>\n",
       "      <th>место рождения</th>\n",
       "      <th>место проживания</th>\n",
       "      <th>Unnamed: 15</th>\n",
       "      <th>Unnamed: 16</th>\n",
       "    </tr>\n",
       "  </thead>\n",
       "  <tbody>\n",
       "    <tr>\n",
       "      <th>0</th>\n",
       "      <td>1-2019-1</td>\n",
       "      <td>2019</td>\n",
       "      <td>Легенда</td>\n",
       "      <td>поговорка, храм, колокол, Бог</td>\n",
       "      <td>https://drive.google.com/drive/u/6/folders/1be...</td>\n",
       "      <td>https://drive.google.com/drive/u/6/folders/1be...</td>\n",
       "      <td>-</td>\n",
       "      <td>12:17</td>\n",
       "      <td>17:40</td>\n",
       "      <td>Ивановская область</td>\n",
       "      <td>Южский</td>\n",
       "      <td>Хотимль</td>\n",
       "      <td>NaN</td>\n",
       "      <td>Кулакова Лидия Николаевна \\nКулаков Владимир Н...</td>\n",
       "      <td>Заикина А.\\nПинаева М.\\nКопаева А.</td>\n",
       "      <td>1951; 1943</td>\n",
       "      <td>Домнино; Емельяново</td>\n",
       "      <td>Хотимль</td>\n",
       "      <td>NaN</td>\n",
       "      <td>NaN</td>\n",
       "    </tr>\n",
       "    <tr>\n",
       "      <th>1</th>\n",
       "      <td>1-2019-2</td>\n",
       "      <td>2019</td>\n",
       "      <td>Предание топонимическое</td>\n",
       "      <td>предания топоним.</td>\n",
       "      <td>https://drive.google.com/drive/u/6/folders/1be...</td>\n",
       "      <td>https://drive.google.com/drive/u/6/folders/1be...</td>\n",
       "      <td>-</td>\n",
       "      <td>20:00</td>\n",
       "      <td>20:45</td>\n",
       "      <td>Ивановская область</td>\n",
       "      <td>Южский</td>\n",
       "      <td>Хотимль</td>\n",
       "      <td>NaN</td>\n",
       "      <td>Кулакова Лидия Николаевна \\nКулаков Владимир Н...</td>\n",
       "      <td>Заикина А.\\nПинаева М.\\nКопаева А.</td>\n",
       "      <td>1951; 1943</td>\n",
       "      <td>Домнино; Емельяново</td>\n",
       "      <td>Хотимль</td>\n",
       "      <td>NaN</td>\n",
       "      <td>NaN</td>\n",
       "    </tr>\n",
       "    <tr>\n",
       "      <th>2</th>\n",
       "      <td>1-2019-3</td>\n",
       "      <td>2019</td>\n",
       "      <td>Народная кулинария</td>\n",
       "      <td>хлеб, печенье фигурное, календарь, сорок мучен...</td>\n",
       "      <td>https://drive.google.com/drive/u/6/folders/1be...</td>\n",
       "      <td>https://drive.google.com/drive/u/6/folders/1be...</td>\n",
       "      <td>-</td>\n",
       "      <td>25:32</td>\n",
       "      <td>31:23</td>\n",
       "      <td>Ивановская область</td>\n",
       "      <td>Южский</td>\n",
       "      <td>Хотимль</td>\n",
       "      <td>NaN</td>\n",
       "      <td>Кулакова Лидия Николаевна \\nКулаков Владимир Н...</td>\n",
       "      <td>Заикина А.\\nПинаева М.\\nКопаева А.</td>\n",
       "      <td>1951; 1943</td>\n",
       "      <td>Домнино; Емельяново</td>\n",
       "      <td>Хотимль</td>\n",
       "      <td>NaN</td>\n",
       "      <td>NaN</td>\n",
       "    </tr>\n",
       "  </tbody>\n",
       "</table>\n",
       "</div>"
      ],
      "text/plain": [
       "         id   год                     жанр  \\\n",
       "0  1-2019-1  2019                  Легенда   \n",
       "1  1-2019-2  2019  Предание топонимическое   \n",
       "2  1-2019-3  2019       Народная кулинария   \n",
       "\n",
       "                                      ключевые слова  \\\n",
       "0                      поговорка, храм, колокол, Бог   \n",
       "1                                  предания топоним.   \n",
       "2  хлеб, печенье фигурное, календарь, сорок мучен...   \n",
       "\n",
       "                                     ссылка на текст  \\\n",
       "0  https://drive.google.com/drive/u/6/folders/1be...   \n",
       "1  https://drive.google.com/drive/u/6/folders/1be...   \n",
       "2  https://drive.google.com/drive/u/6/folders/1be...   \n",
       "\n",
       "                                     ссылка на аудио ссылка на видео  \\\n",
       "0  https://drive.google.com/drive/u/6/folders/1be...               -   \n",
       "1  https://drive.google.com/drive/u/6/folders/1be...               -   \n",
       "2  https://drive.google.com/drive/u/6/folders/1be...               -   \n",
       "\n",
       "  время начала время конца              регион   район  деревня адрес  \\\n",
       "0        12:17       17:40  Ивановская область  Южский  Хотимль   NaN   \n",
       "1        20:00       20:45  Ивановская область  Южский  Хотимль   NaN   \n",
       "2        25:32       31:23  Ивановская область  Южский  Хотимль   NaN   \n",
       "\n",
       "                                          информанты  \\\n",
       "0  Кулакова Лидия Николаевна \\nКулаков Владимир Н...   \n",
       "1  Кулакова Лидия Николаевна \\nКулаков Владимир Н...   \n",
       "2  Кулакова Лидия Николаевна \\nКулаков Владимир Н...   \n",
       "\n",
       "                           собиратели год рождения       место рождения  \\\n",
       "0  Заикина А.\\nПинаева М.\\nКопаева А.   1951; 1943  Домнино; Емельяново   \n",
       "1  Заикина А.\\nПинаева М.\\nКопаева А.   1951; 1943  Домнино; Емельяново   \n",
       "2  Заикина А.\\nПинаева М.\\nКопаева А.   1951; 1943  Домнино; Емельяново   \n",
       "\n",
       "  место проживания  Unnamed: 15  Unnamed: 16  \n",
       "0          Хотимль          NaN          NaN  \n",
       "1          Хотимль          NaN          NaN  \n",
       "2          Хотимль          NaN          NaN  "
      ]
     },
     "execution_count": 9,
     "metadata": {},
     "output_type": "execute_result"
    }
   ],
   "source": [
    "df.head(3)"
   ]
  },
  {
   "cell_type": "markdown",
   "metadata": {},
   "source": [
    "**ключевые слова**"
   ]
  },
  {
   "cell_type": "code",
   "execution_count": 17,
   "metadata": {},
   "outputs": [],
   "source": [
    "real = [\"Настя\", \"Настя См.\", \"Сюзанна\"]\n",
    "counter = defaultdict(int)\n",
    "for words in df['ключевые слова'].values:\n",
    "    if type(words) == str:\n",
    "        words = words.lower()\n",
    "        if 'яйцо пасх. время' in words:\n",
    "            words = words.replace('яйцо пасх. время', 'яйцо пасх., время')\n",
    "        if ',' in words:\n",
    "            sep = ','\n",
    "        else:\n",
    "            sep = '.'\n",
    "        for word in words.strip().split(sep):\n",
    "            if word:\n",
    "                counter[word.strip('. \\n\\t').lower()] += 1"
   ]
  },
  {
   "cell_type": "code",
   "execution_count": 19,
   "metadata": {},
   "outputs": [],
   "source": [
    "# for key in sorted(counter, key=counter.get, reverse=True):\n",
    "#     if key not in keywords:\n",
    "#         print(key)"
   ]
  },
  {
   "cell_type": "markdown",
   "metadata": {},
   "source": [
    "**информанты**"
   ]
  },
  {
   "cell_type": "code",
   "execution_count": 20,
   "metadata": {},
   "outputs": [],
   "source": [
    "counter = defaultdict(int)\n",
    "infs = set()\n",
    "for inform in df['информанты'].values:\n",
    "    if ',' in inform:\n",
    "        sep = ','\n",
    "    elif ';' in inform:\n",
    "        sep = ';'\n",
    "    elif '\\n' in inform:\n",
    "        sep = '\\n'\n",
    "    else:\n",
    "        sep = None\n",
    "    if sep:\n",
    "        for i in inform.split(sep):\n",
    "            infs.add(i.strip())\n",
    "    else:\n",
    "        infs.add(inform)"
   ]
  },
  {
   "cell_type": "code",
   "execution_count": null,
   "metadata": {},
   "outputs": [],
   "source": [
    "for i in sorted(infs):\n",
    "    print(i)"
   ]
  },
  {
   "cell_type": "code",
   "execution_count": 66,
   "metadata": {},
   "outputs": [],
   "source": [
    "splitting = {\n",
    "    'Вера Павловна, Аня Копаева, Саша Гусева ': ['Вера Павловна', 'Аня Копаева', 'Гусева Александра'],\n",
    "    'Заикина А.\\nПинаева М.\\nКопаева А.': ['Заикина А.', 'Пинаева М.', 'Копаева А.'],\n",
    "    'Заикина А. \\nСмирнова А.': ['Заикина А.', 'Смирнова А.'],\n",
    "    'Заикина А. Смирнова А.': ['Заикина А.', 'Смирнова А.'],\n",
    "    'Заикина Анастасия\\nСмирнова Анастасия\\nГусева Александра\\n': [\n",
    "        'Заикина Анастасия', 'Смирнова Анастасия', 'Гусева Александра'],\n",
    "    'Заикина Н., Сельченкова С.': ['Заикина Н.', 'Сельченкова С.'],\n",
    "    'Кувшинская Ю. М., Демина Д.': ['Кувшинская Ю. М.', 'Демина Д.'],\n",
    "    'Кувшинская Ю., Сельченкова С.': ['Кувшинская Ю.', 'Сельченкова С.'],\n",
    "    'Кувшинская Ю., Фесенко В., Сельченкова С.': ['Кувшинская Ю.', 'Фесенко В.', 'Сельченкова С.'],\n",
    "    'Кувшинская Ю.М., Ходневич Т.': ['Кувшинская Ю.М.', 'Ходневич Т.'],\n",
    "    'Кувшинская Ю.М., Ходневич Т., Яськова А., Белова М.':[\n",
    "        'Кувшинская Ю.М.', 'Ходневич Т.', 'Яськова А.', 'Белова М.'\n",
    "    ],\n",
    "    'Смирнова А. Фесенко В.': ['Смирнова А.', 'Фесенко В.'],\n",
    "    'Фесенко В., Сельченкова С.': ['Фесенко В.', 'Сельченкова С.'],\n",
    "    'Фесенко В., Сельченкова С., Копаева А.': ['Фесенко В.', 'Сельченкова С.', 'Копаева А.'],\n",
    "    'Ходневич Т. С., Заикина А. А.': ['Ходневич Т. С.', 'Заикина А. А.'],\n",
    "    'Ходневич Т. С., Яськова А. А., Белова М. В.': ['Ходневич Т. С.', 'Яськова А. А.', 'Белова М. В.'],\n",
    "    \"Фесенко Вера Павловна\": [\"Фесенко Вера Павловна\"]\n",
    "}"
   ]
  },
  {
   "cell_type": "code",
   "execution_count": 26,
   "metadata": {},
   "outputs": [],
   "source": [
    "counter = defaultdict(int)\n",
    "infs = set()\n",
    "for inform in df['собиратели'].values:\n",
    "    if type(inform) != str:\n",
    "        pass\n",
    "    else:\n",
    "        infs.update(splitting[inform])"
   ]
  },
  {
   "cell_type": "code",
   "execution_count": 27,
   "metadata": {},
   "outputs": [],
   "source": [
    "collector_map = {\n",
    "    'Аня Копаева': 40,\n",
    "    'Белова М.': 53,\n",
    "    'Белова М. В.': 53,\n",
    "    'Вера Павловна': 46,\n",
    "    'Гусева Александра': 59,\n",
    "    'Демина Д.': 35,\n",
    "    'Заикина А.': 36,\n",
    "    'Заикина А. А.': 36,\n",
    "    'Заикина Анастасия': 36,\n",
    "    'Заикина Н.': 36,\n",
    "    'Копаева А.': 40,\n",
    "    'Кувшинская Ю.': 49,\n",
    "    'Кувшинская Ю. М.': 49,\n",
    "    'Кувшинская Ю.М.': 49,\n",
    "    'Пинаева М.': 43,\n",
    "    'Сельченкова С.': 60,\n",
    "    'Смирнова А.': 61,\n",
    "    'Смирнова Анастасия': 61,\n",
    "    'Фесенко В.': 46,\n",
    "    'Фесенко Вера Павловна': 46,\n",
    "    'Ходневич Т.': 47,\n",
    "    'Ходневич Т. С.': 47,\n",
    "    'Яськова А.': 52,\n",
    "    'Яськова А. А.': 52\n",
    "}"
   ]
  },
  {
   "cell_type": "markdown",
   "metadata": {},
   "source": [
    "**жанры**"
   ]
  },
  {
   "cell_type": "code",
   "execution_count": 28,
   "metadata": {},
   "outputs": [],
   "source": [
    "cur.execute(\"SELECT genre_name, id FROM genres;\")\n",
    "genres = dict(cur.fetchall())"
   ]
  },
  {
   "cell_type": "code",
   "execution_count": 69,
   "metadata": {},
   "outputs": [],
   "source": [
    "genre_mapping = {\n",
    "    \"Порча\": \"Порча (вредоносная магия и избавление от нее)\", \n",
    "    \"Обряд покупки  скота и ухода за скотом\": \"Обряд покупки скота и ухода за скотом\", \n",
    "    \"Обряды покупки скота и ухода за скотом\": \"Обряд покупки скота и ухода за скотом\", \n",
    "    \"Фольклорные коммуникативные формулы\": \"Этикет\", \"Жестокий романс\": \"Жестокий романс, баллада\", \n",
    "    \"Хозяйственный обряд\": \"Обряд покупки скота и ухода за скотом\", \"Диалект\": \"Народная ономастика\", \n",
    "    \"Топонимическое предание\": \"Предание топонимическое\", \"Рассказ о гулянии\": \"Рассказ о гуляньях\", \n",
    "    \"Игры\": \"Игра\", \"Оберег, молитва\": \"Оберег\", \"Частушка\": \"Частушки\"}"
   ]
  },
  {
   "cell_type": "code",
   "execution_count": 30,
   "metadata": {
    "scrolled": false
   },
   "outputs": [
    {
     "name": "stdout",
     "output_type": "stream",
     "text": [
      "Порча\n",
      "Обряд покупки  скота и ухода за скотом\n",
      "Обряды покупки скота и ухода за скотом\n",
      "Фольклорные коммуникативные формулы\n",
      "Жестокий романс\n",
      "Хозяйственный обряд\n",
      "Диалект\n",
      "Топонимическое предание\n",
      "Рассказ о гулянии\n",
      "Игры\n",
      "Оберег, молитва\n",
      "Частушка\n"
     ]
    }
   ],
   "source": [
    "vals = defaultdict(int)\n",
    "for val in df['жанр'].values:\n",
    "    val = val.strip()\n",
    "    vals[val] += 1\n",
    "\n",
    "for key in sorted(vals, key=vals.get, reverse=True):\n",
    "    if key not in genres:\n",
    "        print(key)"
   ]
  },
  {
   "cell_type": "markdown",
   "metadata": {},
   "source": [
    "**тексты**"
   ]
  },
  {
   "cell_type": "code",
   "execution_count": 1,
   "metadata": {},
   "outputs": [],
   "source": [
    "# for i in df['id'].values:\n",
    "#     try:\n",
    "#         print(open(f'./2020_file/txt/{i}.txt').read()[:10])\n",
    "#     except:\n",
    "#         print(i)"
   ]
  },
  {
   "cell_type": "code",
   "execution_count": null,
   "metadata": {},
   "outputs": [],
   "source": []
  },
  {
   "cell_type": "markdown",
   "metadata": {},
   "source": [
    "## Загрузка"
   ]
  },
  {
   "cell_type": "markdown",
   "metadata": {},
   "source": [
    "**1.Тексты**"
   ]
  },
  {
   "cell_type": "code",
   "execution_count": 34,
   "metadata": {},
   "outputs": [],
   "source": [
    "import re"
   ]
  },
  {
   "cell_type": "code",
   "execution_count": 64,
   "metadata": {},
   "outputs": [],
   "source": [
    "def get_text(text):\n",
    "    text = re.split(\"Ключевые слова:.*?\\n\", text)[-1]\n",
    "    text = re.sub(\"(^|\\n)([СC]:.*?)\\n\", \"\\n[\\g<2>]\\n\", text)\n",
    "    return text.strip()"
   ]
  },
  {
   "cell_type": "code",
   "execution_count": 54,
   "metadata": {},
   "outputs": [],
   "source": [
    "data = []\n",
    "for i in df['id'].values:\n",
    "    text = open(f'./2020_file/txt/{i}.txt').read()\n",
    "    data.append((i, get_text(text)))"
   ]
  },
  {
   "cell_type": "code",
   "execution_count": 55,
   "metadata": {},
   "outputs": [],
   "source": [
    "cur.executemany(\"INSERT INTO texts (old_id, raw_text) VALUES (%s, %s)\", data)\n",
    "db.commit()"
   ]
  },
  {
   "cell_type": "code",
   "execution_count": 46,
   "metadata": {},
   "outputs": [],
   "source": [
    "cur.execute(\"UPDATE texts SET leader = 'ЮМК' WHERE id > 6913\")\n",
    "db.commit()"
   ]
  },
  {
   "cell_type": "code",
   "execution_count": 48,
   "metadata": {},
   "outputs": [],
   "source": [
    "cur.execute(\"UPDATE texts SET year = 2018 WHERE id > 6913 AND old_id LIKE '%2018%'\")\n",
    "db.commit()"
   ]
  },
  {
   "cell_type": "code",
   "execution_count": 65,
   "metadata": {},
   "outputs": [],
   "source": [
    "data = []\n",
    "for i in df['id'].values:\n",
    "    text = open(f'./2020_file/txt/{i}.txt').read()\n",
    "    data.append((get_text(text), i,))"
   ]
  },
  {
   "cell_type": "code",
   "execution_count": 24,
   "metadata": {},
   "outputs": [],
   "source": [
    "# print(data[0][0])"
   ]
  },
  {
   "cell_type": "code",
   "execution_count": 67,
   "metadata": {},
   "outputs": [],
   "source": [
    "cur.executemany(\"UPDATE texts SET raw_text = %s WHERE old_id = %s\", data)\n",
    "db.commit()"
   ]
  },
  {
   "cell_type": "markdown",
   "metadata": {},
   "source": [
    "**2. Жанры**"
   ]
  },
  {
   "cell_type": "code",
   "execution_count": 70,
   "metadata": {},
   "outputs": [],
   "source": [
    "cur.execute(\"SELECT genre_name, id FROM genres;\")\n",
    "genres = dict(cur.fetchall())"
   ]
  },
  {
   "cell_type": "code",
   "execution_count": 71,
   "metadata": {},
   "outputs": [],
   "source": [
    "genre_mapping = {\n",
    "    \"Порча\": \"Порча (вредоносная магия и избавление от нее)\", \n",
    "    \"Обряд покупки  скота и ухода за скотом\": \"Обряд покупки скота и ухода за скотом\", \n",
    "    \"Обряды покупки скота и ухода за скотом\": \"Обряд покупки скота и ухода за скотом\", \n",
    "    \"Фольклорные коммуникативные формулы\": \"Этикет\", \"Жестокий романс\": \"Жестокий романс, баллада\", \n",
    "    \"Хозяйственный обряд\": \"Обряд покупки скота и ухода за скотом\", \"Диалект\": \"Народная ономастика\", \n",
    "    \"Топонимическое предание\": \"Предание топонимическое\", \"Рассказ о гулянии\": \"Рассказ о гуляньях\", \n",
    "    \"Игры\": \"Игра\", \"Оберег, молитва\": \"Оберег\", \"Частушка\": \"Частушки\"}"
   ]
  },
  {
   "cell_type": "code",
   "execution_count": 74,
   "metadata": {},
   "outputs": [
    {
     "data": {
      "text/html": [
       "<div>\n",
       "<style scoped>\n",
       "    .dataframe tbody tr th:only-of-type {\n",
       "        vertical-align: middle;\n",
       "    }\n",
       "\n",
       "    .dataframe tbody tr th {\n",
       "        vertical-align: top;\n",
       "    }\n",
       "\n",
       "    .dataframe thead th {\n",
       "        text-align: right;\n",
       "    }\n",
       "</style>\n",
       "<table border=\"1\" class=\"dataframe\">\n",
       "  <thead>\n",
       "    <tr style=\"text-align: right;\">\n",
       "      <th></th>\n",
       "      <th>id</th>\n",
       "      <th>год</th>\n",
       "      <th>жанр</th>\n",
       "      <th>ключевые слова</th>\n",
       "      <th>ссылка на текст</th>\n",
       "      <th>ссылка на аудио</th>\n",
       "      <th>ссылка на видео</th>\n",
       "      <th>время начала</th>\n",
       "      <th>время конца</th>\n",
       "      <th>регион</th>\n",
       "      <th>район</th>\n",
       "      <th>деревня</th>\n",
       "      <th>адрес</th>\n",
       "      <th>информанты</th>\n",
       "      <th>собиратели</th>\n",
       "      <th>год рождения</th>\n",
       "      <th>место рождения</th>\n",
       "      <th>место проживания</th>\n",
       "      <th>Unnamed: 15</th>\n",
       "      <th>Unnamed: 16</th>\n",
       "    </tr>\n",
       "  </thead>\n",
       "  <tbody>\n",
       "    <tr>\n",
       "      <th>0</th>\n",
       "      <td>1-2019-1</td>\n",
       "      <td>2019</td>\n",
       "      <td>Легенда</td>\n",
       "      <td>поговорка, храм, колокол, Бог</td>\n",
       "      <td>https://drive.google.com/drive/u/6/folders/1be...</td>\n",
       "      <td>https://drive.google.com/drive/u/6/folders/1be...</td>\n",
       "      <td>-</td>\n",
       "      <td>12:17</td>\n",
       "      <td>17:40</td>\n",
       "      <td>Ивановская область</td>\n",
       "      <td>Южский</td>\n",
       "      <td>Хотимль</td>\n",
       "      <td>NaN</td>\n",
       "      <td>Кулакова Лидия Николаевна \\nКулаков Владимир Н...</td>\n",
       "      <td>Заикина А.\\nПинаева М.\\nКопаева А.</td>\n",
       "      <td>1951; 1943</td>\n",
       "      <td>Домнино; Емельяново</td>\n",
       "      <td>Хотимль</td>\n",
       "      <td>NaN</td>\n",
       "      <td>NaN</td>\n",
       "    </tr>\n",
       "  </tbody>\n",
       "</table>\n",
       "</div>"
      ],
      "text/plain": [
       "         id   год     жанр                 ключевые слова  \\\n",
       "0  1-2019-1  2019  Легенда  поговорка, храм, колокол, Бог   \n",
       "\n",
       "                                     ссылка на текст  \\\n",
       "0  https://drive.google.com/drive/u/6/folders/1be...   \n",
       "\n",
       "                                     ссылка на аудио ссылка на видео  \\\n",
       "0  https://drive.google.com/drive/u/6/folders/1be...               -   \n",
       "\n",
       "  время начала время конца              регион   район  деревня адрес  \\\n",
       "0        12:17       17:40  Ивановская область  Южский  Хотимль   NaN   \n",
       "\n",
       "                                          информанты  \\\n",
       "0  Кулакова Лидия Николаевна \\nКулаков Владимир Н...   \n",
       "\n",
       "                           собиратели год рождения       место рождения  \\\n",
       "0  Заикина А.\\nПинаева М.\\nКопаева А.   1951; 1943  Домнино; Емельяново   \n",
       "\n",
       "  место проживания  Unnamed: 15  Unnamed: 16  \n",
       "0          Хотимль          NaN          NaN  "
      ]
     },
     "execution_count": 74,
     "metadata": {},
     "output_type": "execute_result"
    }
   ],
   "source": [
    "df.head(1)"
   ]
  },
  {
   "cell_type": "code",
   "execution_count": 64,
   "metadata": {},
   "outputs": [],
   "source": [
    "# genres"
   ]
  },
  {
   "cell_type": "code",
   "execution_count": 86,
   "metadata": {},
   "outputs": [],
   "source": [
    "data = []\n",
    "for idx, genre in df[['id','жанр']].values:\n",
    "    genre = genre.strip()\n",
    "    if genre in genres:\n",
    "        g = genre\n",
    "    else:\n",
    "#         print(genre, genre_mapping.get(genre))\n",
    "        g = genre_mapping.get(genre)\n",
    "    data.append((g, idx))"
   ]
  },
  {
   "cell_type": "code",
   "execution_count": 88,
   "metadata": {},
   "outputs": [],
   "source": [
    "cur.executemany(\"UPDATE texts SET genre = %s WHERE old_id = %s\", data)\n",
    "db.commit()"
   ]
  },
  {
   "cell_type": "markdown",
   "metadata": {},
   "source": [
    "**3.Гео**"
   ]
  },
  {
   "cell_type": "code",
   "execution_count": 19,
   "metadata": {},
   "outputs": [],
   "source": [
    "geo_mapping = {\n",
    "    \"Хотимль\": 73, # 43\n",
    "    \"Волокобино\": 74, # 44\n",
    "    \"Емельяново\": 75, # 45\n",
    "    \"Преображенское\": 76, # 46\n",
    "    \"Ряполово\": 77, # 47\n",
    "    \"Нижний Ландех\": 12, # 12\n",
    "    \"Лукино\": 17 # 17\n",
    "}"
   ]
  },
  {
   "cell_type": "code",
   "execution_count": 20,
   "metadata": {},
   "outputs": [],
   "source": [
    "data = []\n",
    "for idx, vil in df[['id','деревня']].values:\n",
    "    vil = vil.strip()\n",
    "    if vil in geo_mapping:\n",
    "        g = geo_mapping[vil]\n",
    "    else:\n",
    "        print(vil)\n",
    "    data.append((g, idx))"
   ]
  },
  {
   "cell_type": "code",
   "execution_count": 21,
   "metadata": {},
   "outputs": [],
   "source": [
    "cur.execute(\"SELECT id FROM g_geo_text\")\n",
    "geo_ids = set([i[0] for i in cur.fetchall()])"
   ]
  },
  {
   "cell_type": "code",
   "execution_count": 22,
   "metadata": {},
   "outputs": [],
   "source": [
    "for k in geo_mapping.values():\n",
    "    if k not in geo_ids:\n",
    "        print(k)"
   ]
  },
  {
   "cell_type": "code",
   "execution_count": 23,
   "metadata": {},
   "outputs": [],
   "source": [
    "cur.executemany(\"UPDATE texts SET geo_id = %s WHERE old_id = %s\", data)\n",
    "db.commit()"
   ]
  },
  {
   "cell_type": "markdown",
   "metadata": {},
   "source": [
    "**4.Ключевые слова**"
   ]
  },
  {
   "cell_type": "code",
   "execution_count": 53,
   "metadata": {},
   "outputs": [],
   "source": [
    "cur.execute(\"SELECT old_id, id FROM texts WHERE id > 6913\")\n",
    "texts = dict(cur.fetchall())"
   ]
  },
  {
   "cell_type": "code",
   "execution_count": 54,
   "metadata": {},
   "outputs": [],
   "source": [
    "cur.execute(\"SELECT word, id FROM keywords\")\n",
    "keywords = {x.lower().strip('.'): y for x, y in cur.fetchall()}"
   ]
  },
  {
   "cell_type": "code",
   "execution_count": 57,
   "metadata": {},
   "outputs": [],
   "source": [
    "keyword_mapping = {\n",
    "    \"берёза\": \"Береза\", \"болезни\": \"Болезнь\", \"быличка\": \"Былички\", \"вербное воскресенье\": \"Вербное воскресение\",\n",
    "    \"возмездие\": \"Кара\", \"гадание\": \"Гадания\", \"драки\": \"Драка\", \"заговор\": \"Заговоры\",\n",
    "    \"застолье\": \"Трапеза ритуальная\", \"игра фольк\": \"Игры фольк.\", \"игры\": \"Игры фольк.\", \"костёр\": \"Костер\",\n",
    "    \"красота (свадеб.)\": \"Красота (свад.)\", \"крещение\": \"Крещенье (праздник)\", \"крещенье\": \"Крещенье (праздник)\",\n",
    "    \"легенда\": \"Легенды\", \"молодожёны\": \"Молодожены\", \"муж\": \"Супруги\", \"наказание\": \"Кара\",\n",
    "    \"народная медицина\": \"Медицина\", \"народы\": \"Народ\", \"нога\": \"Ноги\", \"оберег\": \"Обереги\",\n",
    "    \"обмывание\": \"Обмывание покойника\", \"окропить\": \"Кропить\", \"песня\": \"Песни\", \"поверье\": \"Демонология\",\n",
    "    \"покров\": \"Покров (календ.)\", \"поминальный дни\": \"Поминальные дни\", \"похороны\": \"Похоронный обряд\",\n",
    "    \"предание\": \"Предания\", \"предание топоним\": \"Предания топоним.\", \"преображение\": \"Преображение (календ.)\",\n",
    "    \"престольный праздник\": \"Престольный праздник\", \"приговор\": \"Приговоры\", \"примета\": \"Приметы\",\n",
    "    \"ребёнок\": \"Ребенок\", \"рекрутский обряд\": \"Рекрутские обряды\", \"ритуальная речь\": \"Речь ритуальная\",\n",
    "    \"свадебный поезд\": \"Поезд свадебный\", \"свадьба\": \"Свадебный обряд\", \"слёзы\": \"Слезы\",\n",
    "    \"труба\": \"Труба печная\", \"украшение\": \"Украшения\", \"урожай\": \"Урожай-неурожай\",\n",
    "    \"устная  история\": \"Устная история\", \"храм\": \"Церковь\", \"чёрный цвет\": \"Черный цвет\", \"яйца\": \"Яйцо\"}"
   ]
  },
  {
   "cell_type": "code",
   "execution_count": 58,
   "metadata": {},
   "outputs": [
    {
     "name": "stdout",
     "output_type": "stream",
     "text": [
      "деревня\n",
      "деревня\n",
      "первый день\n",
      "предписания\n",
      "предписания\n",
      "предписания\n",
      "предписания\n",
      "беседа\n"
     ]
    }
   ],
   "source": [
    "data = []\n",
    "for idx, words in df[['id', 'ключевые слова']].values:\n",
    "    idx_db = texts[idx]\n",
    "    if type(words) == str:\n",
    "        words = words.lower()\n",
    "        if 'яйцо пасх. время' in words:\n",
    "            words = words.replace('яйцо пасх. время', 'яйцо пасх., время')\n",
    "        if ',' in words:\n",
    "            sep = ','\n",
    "        else:\n",
    "            sep = '.'\n",
    "        for word in words.strip().split(sep):\n",
    "            if word:\n",
    "                word = word.lower().strip('.').strip()\n",
    "                if word in keywords:\n",
    "                    data.append((idx_db, keywords[word]))\n",
    "                elif word in keyword_mapping:\n",
    "                    wrd = keyword_mapping[word].lower().strip('.').strip()\n",
    "                    data.append((idx_db, keywords[wrd]))\n",
    "                else:\n",
    "                    print(word)"
   ]
  },
  {
   "cell_type": "code",
   "execution_count": 63,
   "metadata": {},
   "outputs": [
    {
     "data": {
      "text/plain": [
       "[(124992,)]"
      ]
     },
     "execution_count": 63,
     "metadata": {},
     "output_type": "execute_result"
    }
   ],
   "source": [
    "cur.execute(\"SELECT max(id) FROM t_k\")\n",
    "cur.fetchall()\n",
    "#122618"
   ]
  },
  {
   "cell_type": "code",
   "execution_count": 62,
   "metadata": {},
   "outputs": [],
   "source": [
    "cur.executemany(\"INSERT INTO t_k (id_text, id_keyword) VALUES (%s, %s)\", data)\n",
    "db.commit()"
   ]
  },
  {
   "cell_type": "markdown",
   "metadata": {},
   "source": [
    "**5. Собиратели**"
   ]
  },
  {
   "cell_type": "code",
   "execution_count": 70,
   "metadata": {},
   "outputs": [],
   "source": [
    "# splitting, colelctors map\n",
    "data = []\n",
    "for idx, inform in df[['id', 'собиратели']].values:\n",
    "    idx_db = texts[idx]\n",
    "    if type(inform) != str:\n",
    "        continue\n",
    "    else:\n",
    "        infs = splitting[inform]\n",
    "        for i in infs:\n",
    "            data.append((idx_db, collector_map[i]))"
   ]
  },
  {
   "cell_type": "code",
   "execution_count": 73,
   "metadata": {},
   "outputs": [],
   "source": [
    "cur.executemany(\"INSERT INTO t_c (id_text, id_collector) VALUES (%s, %s)\", data)\n",
    "db.commit()"
   ]
  },
  {
   "cell_type": "markdown",
   "metadata": {},
   "source": [
    "**6. Информанты**"
   ]
  },
  {
   "cell_type": "code",
   "execution_count": 114,
   "metadata": {},
   "outputs": [],
   "source": [
    "def split_informants(text):\n",
    "    if ',' in text:\n",
    "        sep = ','\n",
    "    elif ';' in text:\n",
    "        sep = ';'\n",
    "    elif '\\n' in text:\n",
    "        sep = '\\n'\n",
    "    else:\n",
    "        sep = None\n",
    "    if sep:\n",
    "        infs = [i.strip() for i in text.split(sep)]\n",
    "    else:\n",
    "        infs = [text]\n",
    "#     print(infs)\n",
    "    return infs"
   ]
  },
  {
   "cell_type": "code",
   "execution_count": 92,
   "metadata": {},
   "outputs": [],
   "source": [
    "import numpy as np"
   ]
  },
  {
   "cell_type": "code",
   "execution_count": 88,
   "metadata": {},
   "outputs": [],
   "source": [
    "cur.executemany(\n",
    "    \"\"\"INSERT INTO informators (\n",
    "    code, name, gender, birth_year, birth_village, current_village\n",
    "    )\n",
    "    VALUES (%s, %s, %s, %s, %s, %s)\n",
    "    \"\"\",\n",
    "    table[\"informators\"].replace(np.nan, None).values.tolist()\n",
    ")\n",
    "db.commit()"
   ]
  },
  {
   "cell_type": "code",
   "execution_count": 93,
   "metadata": {},
   "outputs": [],
   "source": [
    "cur.execute(\"SELECT name, id FROM informators\")\n",
    "informators = {x: y for x, y in cur.fetchall()}"
   ]
  },
  {
   "cell_type": "code",
   "execution_count": 106,
   "metadata": {},
   "outputs": [],
   "source": [
    "# df['информанты'].drop_duplicates()"
   ]
  },
  {
   "cell_type": "code",
   "execution_count": 115,
   "metadata": {},
   "outputs": [],
   "source": [
    "data = []\n",
    "for idx, text in df[['id', 'информанты']].values:\n",
    "    idx_db = texts[idx]\n",
    "    if type(text) != str:\n",
    "        continue\n",
    "    else:\n",
    "#         print(text)\n",
    "        infs = split_informants(text.strip())\n",
    "#         print(infs)\n",
    "        for i in infs:\n",
    "            data.append((idx_db, informators[i]))"
   ]
  },
  {
   "cell_type": "code",
   "execution_count": 117,
   "metadata": {},
   "outputs": [],
   "source": [
    "cur.executemany(\"INSERT INTO t_i (id_text, id_informator) VALUES (%s, %s)\", data)\n",
    "db.commit()"
   ]
  }
 ],
 "metadata": {
  "kernelspec": {
   "display_name": "Python 3",
   "language": "python",
   "name": "python3"
  },
  "language_info": {
   "codemirror_mode": {
    "name": "ipython",
    "version": 3
   },
   "file_extension": ".py",
   "mimetype": "text/x-python",
   "name": "python",
   "nbconvert_exporter": "python",
   "pygments_lexer": "ipython3",
   "version": "3.8.5"
  }
 },
 "nbformat": 4,
 "nbformat_minor": 2
}
