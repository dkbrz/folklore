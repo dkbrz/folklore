{
 "cells": [
  {
   "cell_type": "code",
   "execution_count": 1,
   "metadata": {},
   "outputs": [],
   "source": [
    "import pandas as pd"
   ]
  },
  {
   "cell_type": "code",
   "execution_count": 2,
   "metadata": {},
   "outputs": [],
   "source": [
    "import pandas as pd\n",
    "import re\n",
    "import os\n",
    "\n",
    "import mysql.connector\n",
    "db = mysql.connector.connect(user='root', password='password', database='folklore_db2')\n",
    "cur = db.cursor()"
   ]
  },
  {
   "cell_type": "code",
   "execution_count": 3,
   "metadata": {},
   "outputs": [
    {
     "name": "stdout",
     "output_type": "stream",
     "text": [
      "tblCards tblInformators tblKeyWords tblSobirately tblTerminy Ошибки вставки \r\n"
     ]
    }
   ],
   "source": [
    "! mdb-tables /home/dkbrz/Downloads/Sebezh.mdb \n",
    "! mdb-export /home/dkbrz/Downloads/Sebezh.mdb tblCards -d \"\\t\" > tblCards.csv\n",
    "! mdb-export /home/dkbrz/Downloads/Sebezh.mdb tblInformators -d \"\\t\" > tblInformators.csv\n",
    "! mdb-export /home/dkbrz/Downloads/Sebezh.mdb tblKeyWords -d \"\\t\" > tblKeyWords.csv\n",
    "! mdb-export /home/dkbrz/Downloads/Sebezh.mdb tblSobirately -d \"\\t\" > tblSobirately.csv\n",
    "! mdb-export /home/dkbrz/Downloads/Sebezh.mdb tblTerminy -d \"\\t\" > tblTerminy.csv"
   ]
  },
  {
   "cell_type": "code",
   "execution_count": 108,
   "metadata": {},
   "outputs": [],
   "source": [
    "cards = pd.read_csv('tblCards.csv', sep='\\t')\n",
    "informators = pd.read_csv('tblInformators.csv', sep='\\t')\n",
    "sobirately = pd.read_csv('tblSobirately.csv', sep='\\t')"
   ]
  },
  {
   "cell_type": "code",
   "execution_count": 4,
   "metadata": {},
   "outputs": [
    {
     "data": {
      "text/html": [
       "<div>\n",
       "<style scoped>\n",
       "    .dataframe tbody tr th:only-of-type {\n",
       "        vertical-align: middle;\n",
       "    }\n",
       "\n",
       "    .dataframe tbody tr th {\n",
       "        vertical-align: top;\n",
       "    }\n",
       "\n",
       "    .dataframe thead th {\n",
       "        text-align: right;\n",
       "    }\n",
       "</style>\n",
       "<table border=\"1\" class=\"dataframe\">\n",
       "  <thead>\n",
       "    <tr style=\"text-align: right;\">\n",
       "      <th></th>\n",
       "      <th>текст</th>\n",
       "      <th>аннотация</th>\n",
       "      <th>ключевые слова</th>\n",
       "      <th>термины</th>\n",
       "      <th>программа</th>\n",
       "      <th>вопрос</th>\n",
       "      <th>село</th>\n",
       "      <th>год</th>\n",
       "      <th>информант</th>\n",
       "      <th>информант2</th>\n",
       "      <th>...</th>\n",
       "      <th>информант4</th>\n",
       "      <th>собиратель</th>\n",
       "      <th>собиратель2</th>\n",
       "      <th>собиратель3</th>\n",
       "      <th>собиратель4</th>\n",
       "      <th>номер</th>\n",
       "      <th>zvuk</th>\n",
       "      <th>zvuk2</th>\n",
       "      <th>photo</th>\n",
       "      <th>photo2</th>\n",
       "    </tr>\n",
       "  </thead>\n",
       "  <tbody>\n",
       "    <tr>\n",
       "      <th>0</th>\n",
       "      <td>[Не говорили, что в женские дни лучше сажать?]...</td>\n",
       "      <td>NaN</td>\n",
       "      <td>Время, Дни, Мужской-женский, Растения, Овощи, ...</td>\n",
       "      <td>NaN</td>\n",
       "      <td>XIV</td>\n",
       "      <td>8 а</td>\n",
       "      <td>Псковская обл., Себеж</td>\n",
       "      <td>2019</td>\n",
       "      <td>А-1</td>\n",
       "      <td>NaN</td>\n",
       "      <td>...</td>\n",
       "      <td>NaN</td>\n",
       "      <td>ТМА</td>\n",
       "      <td>ОЕС</td>\n",
       "      <td>NaN</td>\n",
       "      <td>NaN</td>\n",
       "      <td>4</td>\n",
       "      <td>NaN</td>\n",
       "      <td>NaN</td>\n",
       "      <td>NaN</td>\n",
       "      <td>NaN</td>\n",
       "    </tr>\n",
       "    <tr>\n",
       "      <th>1</th>\n",
       "      <td>[Не слышали, что жениха с невестой надо на шуб...</td>\n",
       "      <td>NaN</td>\n",
       "      <td>Невеста, Жених, Выкуп, Плата, Свадебный обряд,...</td>\n",
       "      <td>NaN</td>\n",
       "      <td>Ia</td>\n",
       "      <td>8 в, 14 г</td>\n",
       "      <td>Псковская обл., Себеж</td>\n",
       "      <td>2019</td>\n",
       "      <td>АТО</td>\n",
       "      <td>NaN</td>\n",
       "      <td>...</td>\n",
       "      <td>NaN</td>\n",
       "      <td>САИ</td>\n",
       "      <td>ТМА</td>\n",
       "      <td>NaN</td>\n",
       "      <td>NaN</td>\n",
       "      <td>56</td>\n",
       "      <td>NaN</td>\n",
       "      <td>NaN</td>\n",
       "      <td>NaN</td>\n",
       "      <td>NaN</td>\n",
       "    </tr>\n",
       "  </tbody>\n",
       "</table>\n",
       "<p>2 rows × 21 columns</p>\n",
       "</div>"
      ],
      "text/plain": [
       "                                               текст  аннотация  \\\n",
       "0  [Не говорили, что в женские дни лучше сажать?]...        NaN   \n",
       "1  [Не слышали, что жениха с невестой надо на шуб...        NaN   \n",
       "\n",
       "                                      ключевые слова термины программа  \\\n",
       "0  Время, Дни, Мужской-женский, Растения, Овощи, ...     NaN       XIV   \n",
       "1  Невеста, Жених, Выкуп, Плата, Свадебный обряд,...     NaN        Ia   \n",
       "\n",
       "      вопрос                   село   год информант информант2  ...  \\\n",
       "0        8 а  Псковская обл., Себеж  2019       А-1        NaN  ...   \n",
       "1  8 в, 14 г  Псковская обл., Себеж  2019       АТО        NaN  ...   \n",
       "\n",
       "  информант4 собиратель собиратель2 собиратель3 собиратель4 номер  zvuk  \\\n",
       "0        NaN        ТМА         ОЕС         NaN         NaN     4   NaN   \n",
       "1        NaN        САИ         ТМА         NaN         NaN    56   NaN   \n",
       "\n",
       "   zvuk2  photo  photo2  \n",
       "0    NaN    NaN     NaN  \n",
       "1    NaN    NaN     NaN  \n",
       "\n",
       "[2 rows x 21 columns]"
      ]
     },
     "execution_count": 4,
     "metadata": {},
     "output_type": "execute_result"
    }
   ],
   "source": [
    "cards.head(2)"
   ]
  },
  {
   "cell_type": "markdown",
   "metadata": {},
   "source": [
    "### Сохранить геолокации"
   ]
  },
  {
   "cell_type": "code",
   "execution_count": 63,
   "metadata": {},
   "outputs": [],
   "source": [
    "cards['село'] = [i if i != \"Дворищи\" else \"Дворище\" for i in cards['село'].values]"
   ]
  },
  {
   "cell_type": "code",
   "execution_count": 64,
   "metadata": {},
   "outputs": [
    {
     "data": {
      "text/plain": [
       "Себеж              1222\n",
       "Глембочино           79\n",
       "Чернея               60\n",
       "Бондари              51\n",
       "Эпимахово            50\n",
       "Дворище              23\n",
       "Букатино             19\n",
       "Комары               18\n",
       "Белогурово            6\n",
       "Глубочица             4\n",
       "Себеж-Эпимахово       2\n",
       "Name: село, dtype: int64"
      ]
     },
     "execution_count": 64,
     "metadata": {},
     "output_type": "execute_result"
    }
   ],
   "source": [
    "cards['село'].value_counts()"
   ]
  },
  {
   "cell_type": "code",
   "execution_count": 65,
   "metadata": {},
   "outputs": [],
   "source": [
    "cur.execute('SELECT * FROM g_villages WHERE id > 30')\n",
    "villages = {key: value for value, key in cur.fetchall()}"
   ]
  },
  {
   "cell_type": "code",
   "execution_count": 66,
   "metadata": {},
   "outputs": [
    {
     "data": {
      "text/plain": [
       "{'Себеж': 31,\n",
       " 'Глембочино': 32,\n",
       " 'Чернея': 33,\n",
       " 'Бондари': 34,\n",
       " 'Эпимахово': 35,\n",
       " 'Букатино': 36,\n",
       " 'Комары': 38,\n",
       " 'Дворище': 39,\n",
       " 'Белогурово': 40,\n",
       " 'Глубочица': 41,\n",
       " 'Себеж-Эпимахово': 42}"
      ]
     },
     "execution_count": 66,
     "metadata": {},
     "output_type": "execute_result"
    }
   ],
   "source": [
    "villages"
   ]
  },
  {
   "cell_type": "markdown",
   "metadata": {},
   "source": [
    "### Сохранить информантов"
   ]
  },
  {
   "cell_type": "code",
   "execution_count": 55,
   "metadata": {},
   "outputs": [],
   "source": [
    "INFORMATOR_MIN_INDEX = 10335\n",
    "informators = informators[informators['порядковый номер информанта']>=10335]"
   ]
  },
  {
   "cell_type": "code",
   "execution_count": 56,
   "metadata": {},
   "outputs": [],
   "source": [
    "informators['село'] = [i if i != \"Дворищи\" else \"Дворище\" for i in informators['село'].values]"
   ]
  },
  {
   "cell_type": "code",
   "execution_count": 57,
   "metadata": {},
   "outputs": [
    {
     "data": {
      "text/plain": [
       "[(423,)]"
      ]
     },
     "execution_count": 57,
     "metadata": {},
     "output_type": "execute_result"
    }
   ],
   "source": [
    "cur.execute('SELECT max(id) FROM informators')\n",
    "cur.fetchall()"
   ]
  },
  {
   "cell_type": "code",
   "execution_count": 58,
   "metadata": {},
   "outputs": [
    {
     "data": {
      "text/plain": [
       "Себеж         91\n",
       "Эпимахово      8\n",
       "Чернея         6\n",
       "Глембочино     5\n",
       "Бондари        4\n",
       "Дворище        2\n",
       "Букатино       1\n",
       "Белогурово     1\n",
       "Комары         1\n",
       "Глубочица      1\n",
       "Name: село, dtype: int64"
      ]
     },
     "execution_count": 58,
     "metadata": {},
     "output_type": "execute_result"
    }
   ],
   "source": [
    "informators['село'].value_counts()"
   ]
  },
  {
   "cell_type": "code",
   "execution_count": 59,
   "metadata": {},
   "outputs": [
    {
     "data": {
      "text/html": [
       "<div>\n",
       "<style scoped>\n",
       "    .dataframe tbody tr th:only-of-type {\n",
       "        vertical-align: middle;\n",
       "    }\n",
       "\n",
       "    .dataframe tbody tr th {\n",
       "        vertical-align: top;\n",
       "    }\n",
       "\n",
       "    .dataframe thead th {\n",
       "        text-align: right;\n",
       "    }\n",
       "</style>\n",
       "<table border=\"1\" class=\"dataframe\">\n",
       "  <thead>\n",
       "    <tr style=\"text-align: right;\">\n",
       "      <th></th>\n",
       "      <th>инициалы</th>\n",
       "      <th>ФИО</th>\n",
       "      <th>село</th>\n",
       "      <th>биография</th>\n",
       "      <th>порядковый номер информанта</th>\n",
       "    </tr>\n",
       "  </thead>\n",
       "  <tbody>\n",
       "    <tr>\n",
       "      <th>0</th>\n",
       "      <td>СНЛ</td>\n",
       "      <td>Сафронова Надежда Лукинична</td>\n",
       "      <td>Себеж</td>\n",
       "      <td>1935 г.р., род. и живет в г. Себеж. Работала н...</td>\n",
       "      <td>10378</td>\n",
       "    </tr>\n",
       "    <tr>\n",
       "      <th>1</th>\n",
       "      <td>СВИ</td>\n",
       "      <td>Страхова Валентина Ивановна</td>\n",
       "      <td>Себеж</td>\n",
       "      <td>1936 г.р., род. в д. Зуевка Себежского р-на. Ж...</td>\n",
       "      <td>10379</td>\n",
       "    </tr>\n",
       "    <tr>\n",
       "      <th>2</th>\n",
       "      <td>ВА</td>\n",
       "      <td>Владимир Александрович</td>\n",
       "      <td>Себеж</td>\n",
       "      <td>1955 г.р., с 1978 г. живет в г. Себеж, до этог...</td>\n",
       "      <td>10380</td>\n",
       "    </tr>\n",
       "    <tr>\n",
       "      <th>3</th>\n",
       "      <td>ЦИВ</td>\n",
       "      <td>Цветкова Ирина Васильевна</td>\n",
       "      <td>Себеж</td>\n",
       "      <td>1960 г.р., род. в пос. Кунья Псковской обл., ж...</td>\n",
       "      <td>10381</td>\n",
       "    </tr>\n",
       "    <tr>\n",
       "      <th>4</th>\n",
       "      <td>ТСВ</td>\n",
       "      <td>Терешкова Светлана Васильевна</td>\n",
       "      <td>Себеж</td>\n",
       "      <td>1977 г.р., род. и живет в г. Себеж. Работает в...</td>\n",
       "      <td>10382</td>\n",
       "    </tr>\n",
       "    <tr>\n",
       "      <th>...</th>\n",
       "      <td>...</td>\n",
       "      <td>...</td>\n",
       "      <td>...</td>\n",
       "      <td>...</td>\n",
       "      <td>...</td>\n",
       "    </tr>\n",
       "    <tr>\n",
       "      <th>115</th>\n",
       "      <td>ИНП</td>\n",
       "      <td>Испавская Нина Петровна</td>\n",
       "      <td>Себеж</td>\n",
       "      <td>1936 г.р., род. в д. Кобылинцы Верхнедвинского...</td>\n",
       "      <td>10451</td>\n",
       "    </tr>\n",
       "    <tr>\n",
       "      <th>116</th>\n",
       "      <td>АНТ</td>\n",
       "      <td>Андреевна Нина Тимофеевна</td>\n",
       "      <td>Себеж</td>\n",
       "      <td>1936 г.р., род. в д. Литвиново (Себежского р-н...</td>\n",
       "      <td>10452</td>\n",
       "    </tr>\n",
       "    <tr>\n",
       "      <th>117</th>\n",
       "      <td>ГВП</td>\n",
       "      <td>Горская Валентина Петровна</td>\n",
       "      <td>Себеж</td>\n",
       "      <td>1944 г.р., род. на Кубани, жила в д. Томсино (...</td>\n",
       "      <td>10453</td>\n",
       "    </tr>\n",
       "    <tr>\n",
       "      <th>118</th>\n",
       "      <td>КТП</td>\n",
       "      <td>Кадовская Татьяна Павловна</td>\n",
       "      <td>Себеж</td>\n",
       "      <td>1933 г.р., род. в Мордовии, жила в Якутии: в Я...</td>\n",
       "      <td>10454</td>\n",
       "    </tr>\n",
       "    <tr>\n",
       "      <th>119</th>\n",
       "      <td>ЕН</td>\n",
       "      <td>Минчёнок Елена Николаевна</td>\n",
       "      <td>Себеж</td>\n",
       "      <td>1960 г.р., род. в д. Дедино, живет в г. Себеж....</td>\n",
       "      <td>10350</td>\n",
       "    </tr>\n",
       "  </tbody>\n",
       "</table>\n",
       "<p>120 rows × 5 columns</p>\n",
       "</div>"
      ],
      "text/plain": [
       "    инициалы                            ФИО   село  \\\n",
       "0        СНЛ    Сафронова Надежда Лукинична  Себеж   \n",
       "1        СВИ    Страхова Валентина Ивановна  Себеж   \n",
       "2         ВА         Владимир Александрович  Себеж   \n",
       "3        ЦИВ      Цветкова Ирина Васильевна  Себеж   \n",
       "4        ТСВ  Терешкова Светлана Васильевна  Себеж   \n",
       "..       ...                            ...    ...   \n",
       "115      ИНП        Испавская Нина Петровна  Себеж   \n",
       "116      АНТ      Андреевна Нина Тимофеевна  Себеж   \n",
       "117      ГВП     Горская Валентина Петровна  Себеж   \n",
       "118      КТП     Кадовская Татьяна Павловна  Себеж   \n",
       "119       ЕН      Минчёнок Елена Николаевна  Себеж   \n",
       "\n",
       "                                             биография  \\\n",
       "0    1935 г.р., род. и живет в г. Себеж. Работала н...   \n",
       "1    1936 г.р., род. в д. Зуевка Себежского р-на. Ж...   \n",
       "2    1955 г.р., с 1978 г. живет в г. Себеж, до этог...   \n",
       "3    1960 г.р., род. в пос. Кунья Псковской обл., ж...   \n",
       "4    1977 г.р., род. и живет в г. Себеж. Работает в...   \n",
       "..                                                 ...   \n",
       "115  1936 г.р., род. в д. Кобылинцы Верхнедвинского...   \n",
       "116  1936 г.р., род. в д. Литвиново (Себежского р-н...   \n",
       "117  1944 г.р., род. на Кубани, жила в д. Томсино (...   \n",
       "118  1933 г.р., род. в Мордовии, жила в Якутии: в Я...   \n",
       "119  1960 г.р., род. в д. Дедино, живет в г. Себеж....   \n",
       "\n",
       "     порядковый номер информанта  \n",
       "0                          10378  \n",
       "1                          10379  \n",
       "2                          10380  \n",
       "3                          10381  \n",
       "4                          10382  \n",
       "..                           ...  \n",
       "115                        10451  \n",
       "116                        10452  \n",
       "117                        10453  \n",
       "118                        10454  \n",
       "119                        10350  \n",
       "\n",
       "[120 rows x 5 columns]"
      ]
     },
     "execution_count": 59,
     "metadata": {},
     "output_type": "execute_result"
    }
   ],
   "source": [
    "informators"
   ]
  },
  {
   "cell_type": "code",
   "execution_count": 76,
   "metadata": {},
   "outputs": [],
   "source": [
    "cur.executemany(\"\"\"\n",
    "INSERT INTO informators\n",
    "(code, name, current_village, bio, old_id)\n",
    "VALUES \n",
    "(%s, %s, %s, %s, %s)\n",
    "\"\"\", informators.values.tolist())"
   ]
  },
  {
   "cell_type": "code",
   "execution_count": 77,
   "metadata": {},
   "outputs": [],
   "source": [
    "db.commit()"
   ]
  },
  {
   "cell_type": "code",
   "execution_count": 60,
   "metadata": {},
   "outputs": [],
   "source": [
    "cur.execute('SELECT id, code FROM informators WHERE id > 303')\n",
    "informators = {key: value for value, key in cur.fetchall()}"
   ]
  },
  {
   "cell_type": "markdown",
   "metadata": {},
   "source": [
    "### Проверить ключевые слова"
   ]
  },
  {
   "cell_type": "code",
   "execution_count": 6,
   "metadata": {},
   "outputs": [
    {
     "name": "stdout",
     "output_type": "stream",
     "text": [
      "[После рассказа о предзнаменовании войны (см. XXIa-17) СЮ напоминает СВИ, что она когда-то рассказывала ему про Параскеву Пятницу. СВИ рассказывает.] У нас води\\тель, получа\\ется, прихо\\дит [СВИ работала бухгалтером на автобазе в Фергане, дело происходило там] и говори\\т. Сдаё\\т командиро\\вочное, я принима\\ю. Он смо\\трит на меня\\ и говори\\т: «Валенти\\на Ива\\нна!» Я говорю\\: «Да». – «А когда\\ вы стира\\ете?» А я так ду\\маю: мущи\\на и спра\\шивает. Заче\\м это? Я та\\к посмотре\\ла и говорю\\: «А ва\\ша жена\\ когда стира\\ет?» А он гът: «А вот щас я вам расскажу\\». А я всегда\\ стира… стира\\ла… ка\\к вам сказа\\ть: в четве\\рг зама\\чиваю, пя\\тницу вы\\стираю, пове\\шу, и у меня суббо\\та-воскресе\\нье выходно\\й. А я говорю… а он говори\\т: «А вы зна\\ете, како\\е чу\\до?» А он опа\\сный груз – тру\\бы вози\\л таки\\е, больши\\е, и сза\\ди виси\\т така\\я кра\\сная тря\\пка, что опа\\сный гру\\з. Вот е\\дет он с Кока\\нда до Ферганы\\ – э\\то пися\\т киломе\\тров – стои\\т же\\нщина на доро\\ге, подня\\ла ру\\ку. Он гът, я посмотре\\л, что с неё всё течё\\т, гря\\зь. А жена\\ ему по… застели\\ла хоро\\шее одея… ба\\йковое одея\\ло чи\\стое. Ду\\мает: посажу\\, а пото\\м жена\\ ска\\жет: «Где\\ ты, что\\ е… что\\ ты вёз э\\то?» В о\\шем, он её\\ не взял, и е\\дет, а пото\\м смо\\трит в зе\\ркало, а она\\ сза\\ди на тру\\бах сиди\\т. Он останови\\л маши\\ну, и ка\\к-то не по себе\\, гът, мне ста\\ло. Ду\\мат: чё э\\то, ка\\к э\\то на тру\\бах сиди\\т. Усе\\лась на э\\тот, ну… И ла\\дно. И вот, он сошё\\л, подаё\\т ру\\ку, гът: «Гражда\\ночка, – гри\\т, – ка\\к это вы попа\\ли на тру\\бы?» Я\\ же не останови\\лся всё. А она\\ ему\\ и отвеча\\ет: «Ну я\\ вам щас отве\\чу». В о\\шем, он откры\\л каби\\ну – она се\\ла. У него\\ был Урал, по-мо\\йму, маши\\на, не по\\мню к… но в о\\шем, больш… э\\то, Ура\\л, по-мо\\йму, был. Она се\\ла, он сел за руль и е\\дет. Она\\ и говори\\т ему\\: «Я свята\\я Пя\\тница. Вот, – грит, – женщины, которые в пя\\тницу стира\\ют, мо\\ют полы\\, вот э\\ту вылива\\ют, э\\то вся грязь идё\\т на меня\\». А вот… а он… и ему\\ и говори\\т: «Вот, – гът, – вы щас прие\\дете, а ва\\ша жена\\, – гът, – бу\\ът в пя\\тницу стира\\ть. Замочи\\ла вот… бельё. А пя\\тницу нельзя\\ стира\\ть: вот э\\та вся вот гряз… И гът, недоезжа\\я кла\\дбищ ру\\сских она\\ гът: «Вот здесь останови\\те, мне ну\\жно зде\\сь сойти\\». Я, грит, останови\\л э\\то, маши\\ну, откры\\л каби\\ну… Да, а он ей задаё\\т вопро\\с ещё\\: «А почему\\ вы, – говори\\т, – вы так оде\\ты?» Ну, всё. Ща\\с вон иди\\ в магази\\н, э\\то, гът, по\\сле войны\\ не\\ было… нельзя\\ было матерья\\л купи\\ть, всё. А щас иди\\, возьмё\\шь, ско\\лько на\\до. И вот она\\ э\\то… вот э\\то ему\\ и объясни\\ла, почему\\ та\\к. Вот. Так что в пя\\тницу нельзя\\ стира\\ть и мыть полы\\. [Стирать и мыть полы?] Да, гря\\зь вылива\\ешь на э\\то. Вот. [А в родительские дни можно?] В роди\\тельские дни, вобще, то\\же жела\\тельно нет. Обы\\чно, говоря\\т, стира\\ют, чтоб бы\\ло всё хорошо\\, в Чи\\стый четве\\рг или в суббо\\ту. [Соб.: Так Чистый четверг раз в год бывает.] Нет, почему\\? В четве\\рг. [Просто в четверг?] В четве\\рг, да, он так. Вот так.\n"
     ]
    }
   ],
   "source": [
    "print(cards[cards['номер'] == 1352]['текст'].values[0])"
   ]
  },
  {
   "cell_type": "code",
   "execution_count": 7,
   "metadata": {},
   "outputs": [],
   "source": [
    "cur.execute('SELECT id, word FROM keywords')\n",
    "keywords = {key: value for value, key in cur.fetchall()}"
   ]
  },
  {
   "cell_type": "code",
   "execution_count": 11,
   "metadata": {},
   "outputs": [],
   "source": [
    "key_fix = {\n",
    "    \"Хозяин-хозяйка-хозяйка\": [\"Хозяин-хозяйка\"],\n",
    "    \"Жених. Невеста\": [\"Жених\", \"Невеста\"],\n",
    "     'Конец cвета': [\"Конец света\"],\n",
    "     'Мужской-женской': [\"Мужской-женский\"],\n",
    "     'Первый. Последний': [\"Первый\", \"Последний\"],\n",
    "     'Покров (календ.) (календ.)': [\"Покров (календ.)\"],\n",
    "     'Рожа (болезнь)Гадания': [\"Рожа (болезнь)\", \"Гадания\"],\n",
    "     'Рожа(болезнь)': [\"Рожа (болезнь)\"],\n",
    "     'УРодство': [\"Уродство\"],\n",
    "     'Хозяин-хозяйка-хозяйка': [],\n",
    "     'Шитье': [\"Шить\"],\n",
    "     'ЮРодство': [\"Юродство\"]\n",
    "}"
   ]
  },
  {
   "cell_type": "code",
   "execution_count": 14,
   "metadata": {},
   "outputs": [
    {
     "name": "stdout",
     "output_type": "stream",
     "text": [
      "470\t\n",
      "1826\t\n",
      "1376\t\n",
      "964\t\n",
      "971\t\n"
     ]
    }
   ],
   "source": [
    "for idx, keyworditem in cards[['номер', 'ключевые слова']].values:\n",
    "    kwds = [i.strip() for i in keyworditem.split(',')]\n",
    "    good = []\n",
    "    for k in kwds:\n",
    "        if k not in keywords:\n",
    "            if k in key_fix:\n",
    "                good.append(key_fix[k])\n",
    "            else:\n",
    "                print(idx, k, sep='\\t')\n",
    "        else:\n",
    "            good.append(k)"
   ]
  },
  {
   "cell_type": "code",
   "execution_count": 10,
   "metadata": {},
   "outputs": [
    {
     "data": {
      "text/plain": [
       "{'',\n",
       " 'Жених. Невеста',\n",
       " 'Конец cвета',\n",
       " 'Мужской-женской',\n",
       " 'Первый. Последний',\n",
       " 'Покров (календ.) (календ.)',\n",
       " 'Рожа (болезнь)Гадания',\n",
       " 'Рожа(болезнь)',\n",
       " 'УРодство',\n",
       " 'Хозяин-хозяйка-хозяйка',\n",
       " 'Шитье',\n",
       " 'ЮРодство'}"
      ]
     },
     "execution_count": 10,
     "metadata": {},
     "output_type": "execute_result"
    }
   ],
   "source": [
    "bugs"
   ]
  },
  {
   "cell_type": "code",
   "execution_count": null,
   "metadata": {},
   "outputs": [],
   "source": []
  },
  {
   "cell_type": "markdown",
   "metadata": {},
   "source": [
    "### Сохранить тексты"
   ]
  },
  {
   "cell_type": "code",
   "execution_count": 24,
   "metadata": {},
   "outputs": [
    {
     "data": {
      "text/plain": [
       "2019    1534\n",
       "Name: год, dtype: int64"
      ]
     },
     "execution_count": 24,
     "metadata": {},
     "output_type": "execute_result"
    }
   ],
   "source": [
    "cards['год'].value_counts()"
   ]
  },
  {
   "cell_type": "code",
   "execution_count": 27,
   "metadata": {},
   "outputs": [],
   "source": [
    "data = []\n",
    "for i in range(len(cards)):\n",
    "    row = cards.iloc[i]\n",
    "    data.append((row[\"текст\"], 2019, int(row[\"номер\"])))"
   ]
  },
  {
   "cell_type": "code",
   "execution_count": 28,
   "metadata": {},
   "outputs": [],
   "source": [
    "cur.executemany(\"INSERT INTO texts (raw_text, year, old_id) VALUES (%s, %s, %s)\", data)\n",
    "db.commit()"
   ]
  },
  {
   "cell_type": "code",
   "execution_count": 29,
   "metadata": {},
   "outputs": [],
   "source": [
    "cur.execute(\"UPDATE texts SET leader = 'АБМ' WHERE id > 5379\")\n",
    "db.commit()"
   ]
  },
  {
   "cell_type": "code",
   "execution_count": 30,
   "metadata": {},
   "outputs": [
    {
     "data": {
      "text/html": [
       "<div>\n",
       "<style scoped>\n",
       "    .dataframe tbody tr th:only-of-type {\n",
       "        vertical-align: middle;\n",
       "    }\n",
       "\n",
       "    .dataframe tbody tr th {\n",
       "        vertical-align: top;\n",
       "    }\n",
       "\n",
       "    .dataframe thead th {\n",
       "        text-align: right;\n",
       "    }\n",
       "</style>\n",
       "<table border=\"1\" class=\"dataframe\">\n",
       "  <thead>\n",
       "    <tr style=\"text-align: right;\">\n",
       "      <th></th>\n",
       "      <th>текст</th>\n",
       "      <th>аннотация</th>\n",
       "      <th>ключевые слова</th>\n",
       "      <th>термины</th>\n",
       "      <th>программа</th>\n",
       "      <th>вопрос</th>\n",
       "      <th>село</th>\n",
       "      <th>год</th>\n",
       "      <th>информант</th>\n",
       "      <th>информант2</th>\n",
       "      <th>...</th>\n",
       "      <th>информант4</th>\n",
       "      <th>собиратель</th>\n",
       "      <th>собиратель2</th>\n",
       "      <th>собиратель3</th>\n",
       "      <th>собиратель4</th>\n",
       "      <th>номер</th>\n",
       "      <th>zvuk</th>\n",
       "      <th>zvuk2</th>\n",
       "      <th>photo</th>\n",
       "      <th>photo2</th>\n",
       "    </tr>\n",
       "  </thead>\n",
       "  <tbody>\n",
       "    <tr>\n",
       "      <th>0</th>\n",
       "      <td>[Не говорили, что в женские дни лучше сажать?]...</td>\n",
       "      <td>NaN</td>\n",
       "      <td>Время, Дни, Мужской-женский, Растения, Овощи, ...</td>\n",
       "      <td>NaN</td>\n",
       "      <td>XIV</td>\n",
       "      <td>8 а</td>\n",
       "      <td>Псковская обл., Себеж</td>\n",
       "      <td>2019</td>\n",
       "      <td>А-1</td>\n",
       "      <td>NaN</td>\n",
       "      <td>...</td>\n",
       "      <td>NaN</td>\n",
       "      <td>ТМА</td>\n",
       "      <td>ОЕС</td>\n",
       "      <td>NaN</td>\n",
       "      <td>NaN</td>\n",
       "      <td>4</td>\n",
       "      <td>NaN</td>\n",
       "      <td>NaN</td>\n",
       "      <td>NaN</td>\n",
       "      <td>NaN</td>\n",
       "    </tr>\n",
       "    <tr>\n",
       "      <th>1</th>\n",
       "      <td>[Не слышали, что жениха с невестой надо на шуб...</td>\n",
       "      <td>NaN</td>\n",
       "      <td>Невеста, Жених, Выкуп, Плата, Свадебный обряд,...</td>\n",
       "      <td>NaN</td>\n",
       "      <td>Ia</td>\n",
       "      <td>8 в, 14 г</td>\n",
       "      <td>Псковская обл., Себеж</td>\n",
       "      <td>2019</td>\n",
       "      <td>АТО</td>\n",
       "      <td>NaN</td>\n",
       "      <td>...</td>\n",
       "      <td>NaN</td>\n",
       "      <td>САИ</td>\n",
       "      <td>ТМА</td>\n",
       "      <td>NaN</td>\n",
       "      <td>NaN</td>\n",
       "      <td>56</td>\n",
       "      <td>NaN</td>\n",
       "      <td>NaN</td>\n",
       "      <td>NaN</td>\n",
       "      <td>NaN</td>\n",
       "    </tr>\n",
       "    <tr>\n",
       "      <th>2</th>\n",
       "      <td>[Ранее собиратели спрашивали ЦИВ про приметы. ...</td>\n",
       "      <td>NaN</td>\n",
       "      <td>Мужской-женский, Приметы, Гость, Знак-знамение...</td>\n",
       "      <td>NaN</td>\n",
       "      <td>XII</td>\n",
       "      <td>3 в, 18</td>\n",
       "      <td>Псковская обл., Себеж</td>\n",
       "      <td>2019</td>\n",
       "      <td>ЦИВ</td>\n",
       "      <td>NaN</td>\n",
       "      <td>...</td>\n",
       "      <td>NaN</td>\n",
       "      <td>КЕА</td>\n",
       "      <td>САИ</td>\n",
       "      <td>NaN</td>\n",
       "      <td>NaN</td>\n",
       "      <td>296</td>\n",
       "      <td>NaN</td>\n",
       "      <td>NaN</td>\n",
       "      <td>NaN</td>\n",
       "      <td>NaN</td>\n",
       "    </tr>\n",
       "    <tr>\n",
       "      <th>3</th>\n",
       "      <td>[Расскажите про источник, пожалуйста] Ну, здес...</td>\n",
       "      <td>NaN</td>\n",
       "      <td>Источник, Святыни, Крест, Народное православие...</td>\n",
       "      <td>NaN</td>\n",
       "      <td>XXIIa</td>\n",
       "      <td>19</td>\n",
       "      <td>Псковская обл., Себеж</td>\n",
       "      <td>2019</td>\n",
       "      <td>НТВ</td>\n",
       "      <td>NaN</td>\n",
       "      <td>...</td>\n",
       "      <td>NaN</td>\n",
       "      <td>КАС</td>\n",
       "      <td>СЭС</td>\n",
       "      <td>NaN</td>\n",
       "      <td>NaN</td>\n",
       "      <td>630</td>\n",
       "      <td>NaN</td>\n",
       "      <td>NaN</td>\n",
       "      <td>NaN</td>\n",
       "      <td>NaN</td>\n",
       "    </tr>\n",
       "    <tr>\n",
       "      <th>4</th>\n",
       "      <td>Вообще\\, Угори\\нка, вот э\\та Угори\\нка, тут ра...</td>\n",
       "      <td>NaN</td>\n",
       "      <td>Предания, Предания топоним., Река, Вода, Озеро...</td>\n",
       "      <td>NaN</td>\n",
       "      <td>XXIa</td>\n",
       "      <td>12 д, доп.</td>\n",
       "      <td>Псковская обл., Себеж</td>\n",
       "      <td>2019</td>\n",
       "      <td>НТВ</td>\n",
       "      <td>NaN</td>\n",
       "      <td>...</td>\n",
       "      <td>NaN</td>\n",
       "      <td>КАС</td>\n",
       "      <td>СЭС</td>\n",
       "      <td>NaN</td>\n",
       "      <td>NaN</td>\n",
       "      <td>631</td>\n",
       "      <td>NaN</td>\n",
       "      <td>NaN</td>\n",
       "      <td>NaN</td>\n",
       "      <td>NaN</td>\n",
       "    </tr>\n",
       "  </tbody>\n",
       "</table>\n",
       "<p>5 rows × 21 columns</p>\n",
       "</div>"
      ],
      "text/plain": [
       "                                               текст  аннотация  \\\n",
       "0  [Не говорили, что в женские дни лучше сажать?]...        NaN   \n",
       "1  [Не слышали, что жениха с невестой надо на шуб...        NaN   \n",
       "2  [Ранее собиратели спрашивали ЦИВ про приметы. ...        NaN   \n",
       "3  [Расскажите про источник, пожалуйста] Ну, здес...        NaN   \n",
       "4  Вообще\\, Угори\\нка, вот э\\та Угори\\нка, тут ра...        NaN   \n",
       "\n",
       "                                      ключевые слова термины программа  \\\n",
       "0  Время, Дни, Мужской-женский, Растения, Овощи, ...     NaN       XIV   \n",
       "1  Невеста, Жених, Выкуп, Плата, Свадебный обряд,...     NaN        Ia   \n",
       "2  Мужской-женский, Приметы, Гость, Знак-знамение...     NaN       XII   \n",
       "3  Источник, Святыни, Крест, Народное православие...     NaN     XXIIa   \n",
       "4  Предания, Предания топоним., Река, Вода, Озеро...     NaN      XXIa   \n",
       "\n",
       "       вопрос                   село   год информант информант2  ...  \\\n",
       "0         8 а  Псковская обл., Себеж  2019       А-1        NaN  ...   \n",
       "1   8 в, 14 г  Псковская обл., Себеж  2019       АТО        NaN  ...   \n",
       "2     3 в, 18  Псковская обл., Себеж  2019       ЦИВ        NaN  ...   \n",
       "3          19  Псковская обл., Себеж  2019       НТВ        NaN  ...   \n",
       "4  12 д, доп.  Псковская обл., Себеж  2019       НТВ        NaN  ...   \n",
       "\n",
       "  информант4 собиратель собиратель2 собиратель3 собиратель4 номер  zvuk  \\\n",
       "0        NaN        ТМА         ОЕС         NaN         NaN     4   NaN   \n",
       "1        NaN        САИ         ТМА         NaN         NaN    56   NaN   \n",
       "2        NaN        КЕА         САИ         NaN         NaN   296   NaN   \n",
       "3        NaN        КАС         СЭС         NaN         NaN   630   NaN   \n",
       "4        NaN        КАС         СЭС         NaN         NaN   631   NaN   \n",
       "\n",
       "   zvuk2  photo  photo2  \n",
       "0    NaN    NaN     NaN  \n",
       "1    NaN    NaN     NaN  \n",
       "2    NaN    NaN     NaN  \n",
       "3    NaN    NaN     NaN  \n",
       "4    NaN    NaN     NaN  \n",
       "\n",
       "[5 rows x 21 columns]"
      ]
     },
     "execution_count": 30,
     "metadata": {},
     "output_type": "execute_result"
    }
   ],
   "source": [
    "cards.head()"
   ]
  },
  {
   "cell_type": "code",
   "execution_count": 6,
   "metadata": {},
   "outputs": [],
   "source": [
    "cur.execute(\"SELECT old_id, id FROM texts WHERE id > 5379\")\n",
    "texts = {x: y for x, y in cur.fetchall()}"
   ]
  },
  {
   "cell_type": "code",
   "execution_count": null,
   "metadata": {},
   "outputs": [],
   "source": []
  },
  {
   "cell_type": "markdown",
   "metadata": {},
   "source": [
    "### Сохранить ключевые слова"
   ]
  },
  {
   "cell_type": "code",
   "execution_count": 39,
   "metadata": {},
   "outputs": [
    {
     "name": "stdout",
     "output_type": "stream",
     "text": [
      "470\t\n",
      "1826\t\n",
      "1376\t\n",
      "964\t\n",
      "971\t\n"
     ]
    }
   ],
   "source": [
    "good = []\n",
    "for idx, keyworditem in cards[['номер', 'ключевые слова']].values:\n",
    "    kwds = [i.strip() for i in keyworditem.split(',')]\n",
    "    for k in kwds:\n",
    "        if k not in keywords:\n",
    "            if k in key_fix:\n",
    "                for w in key_fix[k]:\n",
    "                    good.append((texts[str(idx)], keywords[w],))\n",
    "            else:\n",
    "                print(idx, k, sep='\\t')\n",
    "        else:\n",
    "            good.append((texts[str(idx)], keywords[k],))"
   ]
  },
  {
   "cell_type": "code",
   "execution_count": 41,
   "metadata": {},
   "outputs": [],
   "source": [
    "cur.executemany(\"INSERT INTO t_k (id_text, id_keyword) VALUES (%s, %s)\", good)\n",
    "db.commit()"
   ]
  },
  {
   "cell_type": "markdown",
   "metadata": {},
   "source": [
    "### Сохранить информантов по текстам"
   ]
  },
  {
   "cell_type": "code",
   "execution_count": 109,
   "metadata": {},
   "outputs": [],
   "source": [
    "cur.execute('SELECT id, code FROM informators WHERE id > 303')\n",
    "informators = {key.strip(): value for value, key in cur.fetchall()}"
   ]
  },
  {
   "cell_type": "code",
   "execution_count": 83,
   "metadata": {},
   "outputs": [
    {
     "name": "stdout",
     "output_type": "stream",
     "text": [
      "1168 ПВА\n",
      "299 ЧВФ\n",
      "276 ЧВФ\n",
      "279 ЧВФ\n",
      "1449 ЮС\n",
      "547 ГРВ\n"
     ]
    }
   ],
   "source": [
    "data = []\n",
    "for i in range(len(cards)):\n",
    "    row = cards.iloc[i]\n",
    "    text_id = row['номер']\n",
    "    for v in row[['информант','информант2', 'информант3', 'информант4']].dropna().values:\n",
    "        if v.strip() not in informators and v != '???':\n",
    "            print(row['номер'], v)\n",
    "        if v.strip() in informators:\n",
    "            data.append((int(text_id), informators[v.strip()]))"
   ]
  },
  {
   "cell_type": "code",
   "execution_count": 84,
   "metadata": {},
   "outputs": [],
   "source": [
    "cur.executemany(\"INSERT INTO t_i (id_text, id_informator) VALUES (%s, %s)\", data)\n",
    "db.commit()"
   ]
  },
  {
   "cell_type": "markdown",
   "metadata": {},
   "source": [
    "### Сохранить гео по текстам"
   ]
  },
  {
   "cell_type": "code",
   "execution_count": 92,
   "metadata": {},
   "outputs": [],
   "source": [
    "data = []\n",
    "for i in range(31, 42):\n",
    "    if i != 37:\n",
    "        data.append((5, 5, i))"
   ]
  },
  {
   "cell_type": "code",
   "execution_count": 93,
   "metadata": {},
   "outputs": [
    {
     "data": {
      "text/plain": [
       "[(5, 5, 31),\n",
       " (5, 5, 32),\n",
       " (5, 5, 33),\n",
       " (5, 5, 34),\n",
       " (5, 5, 35),\n",
       " (5, 5, 36),\n",
       " (5, 5, 38),\n",
       " (5, 5, 39),\n",
       " (5, 5, 40),\n",
       " (5, 5, 41)]"
      ]
     },
     "execution_count": 93,
     "metadata": {},
     "output_type": "execute_result"
    }
   ],
   "source": [
    "data"
   ]
  },
  {
   "cell_type": "code",
   "execution_count": 94,
   "metadata": {},
   "outputs": [],
   "source": [
    "cur.executemany(\"INSERT INTO g_geo_text (id_region, id_district, id_village) VALUES (%s, %s, %s)\", data)\n",
    "db.commit()"
   ]
  },
  {
   "cell_type": "code",
   "execution_count": 96,
   "metadata": {},
   "outputs": [],
   "source": [
    "cur.execute('SELECT g_geo_text.id, g_villages.village_name FROM g_geo_text JOIN g_villages ON g_geo_text.id_village = g_villages.id WHERE g_villages.id > 30;')\n",
    "geo = {key: value for value, key in cur.fetchall()}"
   ]
  },
  {
   "cell_type": "code",
   "execution_count": 97,
   "metadata": {},
   "outputs": [
    {
     "data": {
      "text/plain": [
       "{'Себеж': 63,\n",
       " 'Глембочино': 64,\n",
       " 'Чернея': 65,\n",
       " 'Бондари': 66,\n",
       " 'Эпимахово': 67,\n",
       " 'Букатино': 68,\n",
       " 'Комары': 69,\n",
       " 'Дворище': 70,\n",
       " 'Белогурово': 71,\n",
       " 'Глубочица': 72}"
      ]
     },
     "execution_count": 97,
     "metadata": {},
     "output_type": "execute_result"
    }
   ],
   "source": [
    "geo"
   ]
  },
  {
   "cell_type": "code",
   "execution_count": 107,
   "metadata": {},
   "outputs": [],
   "source": [
    "data = []\n",
    "for i in range(len(cards)):\n",
    "    row = cards.iloc[i]\n",
    "    text_id = row['номер']\n",
    "    g = row['село'].split(',')[-1].strip()\n",
    "    if g in geo:\n",
    "        data.append((geo[g], texts[str(text_id)]))\n",
    "    else:\n",
    "        print(g)"
   ]
  },
  {
   "cell_type": "code",
   "execution_count": 109,
   "metadata": {},
   "outputs": [],
   "source": [
    "cur.executemany(\"UPDATE texts SET geo_id = %s WHERE id = %s\", data)\n",
    "db.commit()"
   ]
  },
  {
   "cell_type": "markdown",
   "metadata": {},
   "source": [
    "### Сохранить вопросы по текстам"
   ]
  },
  {
   "cell_type": "code",
   "execution_count": 70,
   "metadata": {},
   "outputs": [],
   "source": [
    "cur.execute(\"SELECT id, question_list, question_num, question_letter FROM folklore_db2.questions;\")\n",
    "known_questions = {(i[1], i[2], i[3]): i[0] for i in cur.fetchall()}"
   ]
  },
  {
   "cell_type": "code",
   "execution_count": 71,
   "metadata": {},
   "outputs": [],
   "source": [
    "def normalize(name):\n",
    "    name = name.replace(\"а\", \"a\")\n",
    "    name = name.replace(\"Х\", \"X\")\n",
    "    return name\n",
    "\n",
    "def restore_label(label):\n",
    "    label = label.replace(\"a\", 'а').replace(\"e\", 'е')\n",
    "    label = label.split(',')\n",
    "    result = []\n",
    "    for i in label:\n",
    "        q = re.findall('^([0-9]*)[^0-9a-zа-я]*?([ a-zа-я\\.]*?)$', i.strip())[0]\n",
    "        result.append((q[0].strip(), q[1].strip()))\n",
    "    for key, value in enumerate(result):\n",
    "        if value[0] == '':\n",
    "            result[key] = (result[key-1][0].strip(), value[1].strip())\n",
    "    return ['-'.join(i).strip(\". \") for i in result]"
   ]
  },
  {
   "cell_type": "code",
   "execution_count": 72,
   "metadata": {},
   "outputs": [
    {
     "data": {
      "text/plain": [
       "Index(['текст', 'аннотация', 'ключевые слова', 'термины', 'программа',\n",
       "       'вопрос', 'село', 'год', 'информант', 'информант2', 'информант3',\n",
       "       'информант4', 'собиратель', 'собиратель2', 'собиратель3', 'собиратель4',\n",
       "       'номер', 'zvuk', 'zvuk2', 'photo', 'photo2'],\n",
       "      dtype='object')"
      ]
     },
     "execution_count": 72,
     "metadata": {},
     "output_type": "execute_result"
    }
   ],
   "source": [
    "cards.columns"
   ]
  },
  {
   "cell_type": "code",
   "execution_count": 54,
   "metadata": {},
   "outputs": [],
   "source": [
    "questions = cards[['номер', 'программа', 'вопрос']].copy()\n",
    "questions[\"вопрос\"] = questions[\"вопрос\"].apply(restore_label).tolist()\n",
    "questions[\"программа\"] = questions[\"программа\"].apply(normalize).tolist()"
   ]
  },
  {
   "cell_type": "code",
   "execution_count": 57,
   "metadata": {},
   "outputs": [
    {
     "data": {
      "text/plain": [
       "True"
      ]
     },
     "execution_count": 57,
     "metadata": {},
     "output_type": "execute_result"
    }
   ],
   "source": [
    "\"Ia\" == 'Ia'"
   ]
  },
  {
   "cell_type": "code",
   "execution_count": 65,
   "metadata": {},
   "outputs": [],
   "source": [
    "add = set()\n",
    "for idx, prog, quests in questions.values:\n",
    "    for q in quests:\n",
    "        if q.split('-')[0] == \"\": num = 0\n",
    "        else: num = int(q.split('-')[0])\n",
    "        let = q.split('-')[1]\n",
    "        key = (prog, num, let)\n",
    "        if key not in known_questions:\n",
    "            add.add(key)"
   ]
  },
  {
   "cell_type": "code",
   "execution_count": 69,
   "metadata": {},
   "outputs": [],
   "source": [
    "cur.executemany(\"INSERT INTO questions (question_list, question_num, question_letter) VALUES (%s, %s, %s)\", list(add))\n",
    "db.commit()"
   ]
  },
  {
   "cell_type": "code",
   "execution_count": 75,
   "metadata": {},
   "outputs": [],
   "source": [
    "data = []\n",
    "for idx, prog, quests in questions.values:\n",
    "    for q in quests:\n",
    "        if q.split('-')[0] == \"\": num = 0\n",
    "        else: num = int(q.split('-')[0])\n",
    "        let = q.split('-')[1]\n",
    "        key = (prog, num, let)\n",
    "        data.append([texts[str(idx)], known_questions[key]])"
   ]
  },
  {
   "cell_type": "code",
   "execution_count": 77,
   "metadata": {},
   "outputs": [],
   "source": [
    "cur.executemany(\"INSERT INTO t_q (id_text, id_question) VALUES (%s, %s)\", data)\n",
    "db.commit()"
   ]
  },
  {
   "cell_type": "code",
   "execution_count": 78,
   "metadata": {},
   "outputs": [],
   "source": [
    "# for i in sorted(cards[''].apply(normalize).value_counts().index):\n",
    "#     print(i)"
   ]
  },
  {
   "cell_type": "code",
   "execution_count": 79,
   "metadata": {},
   "outputs": [],
   "source": [
    "# for i in sorted(cards['программа'].apply(normalize).value_counts().index):\n",
    "#     print(i)"
   ]
  },
  {
   "cell_type": "markdown",
   "metadata": {},
   "source": [
    "### Сохранить информантов"
   ]
  },
  {
   "cell_type": "code",
   "execution_count": 82,
   "metadata": {},
   "outputs": [
    {
     "data": {
      "text/plain": [
       "Себеж                       91\n",
       "Рогов                       69\n",
       "Спиридонова Буда            66\n",
       "Малые Щербиничи             33\n",
       "Карпиловка                  20\n",
       "Большие Щербиничи           15\n",
       "Азаричи                     12\n",
       "Шурубовка                   11\n",
       "Еловка                       8\n",
       "Эпимахово                    8\n",
       "Новобежков                   7\n",
       "Чернея                       6\n",
       "Софиевка                     5\n",
       "Глембочино                   5\n",
       "Бондари                      4\n",
       "Кривуша (= Зелёная Роща)     2\n",
       "Дворищи                      2\n",
       "Белогурово                   1\n",
       "Комары                       1\n",
       "Мадые Щербиничи              1\n",
       "Букатино                     1\n",
       "Глубочица                    1\n",
       "Name: село, dtype: int64"
      ]
     },
     "execution_count": 82,
     "metadata": {},
     "output_type": "execute_result"
    }
   ],
   "source": [
    "informators['село'].value_counts()"
   ]
  },
  {
   "cell_type": "code",
   "execution_count": 83,
   "metadata": {},
   "outputs": [
    {
     "data": {
      "text/html": [
       "<div>\n",
       "<style scoped>\n",
       "    .dataframe tbody tr th:only-of-type {\n",
       "        vertical-align: middle;\n",
       "    }\n",
       "\n",
       "    .dataframe tbody tr th {\n",
       "        vertical-align: top;\n",
       "    }\n",
       "\n",
       "    .dataframe thead th {\n",
       "        text-align: right;\n",
       "    }\n",
       "</style>\n",
       "<table border=\"1\" class=\"dataframe\">\n",
       "  <thead>\n",
       "    <tr style=\"text-align: right;\">\n",
       "      <th></th>\n",
       "      <th>инициалы</th>\n",
       "      <th>ФИО</th>\n",
       "      <th>село</th>\n",
       "      <th>биография</th>\n",
       "      <th>порядковый номер информанта</th>\n",
       "    </tr>\n",
       "  </thead>\n",
       "  <tbody>\n",
       "    <tr>\n",
       "      <th>118</th>\n",
       "      <td>КТП</td>\n",
       "      <td>Кадовская Татьяна Павловна</td>\n",
       "      <td>Себеж</td>\n",
       "      <td>1933 г.р., род. в Мордовии, жила в Якутии: в Я...</td>\n",
       "      <td>10454</td>\n",
       "    </tr>\n",
       "    <tr>\n",
       "      <th>117</th>\n",
       "      <td>ГВП</td>\n",
       "      <td>Горская Валентина Петровна</td>\n",
       "      <td>Себеж</td>\n",
       "      <td>1944 г.р., род. на Кубани, жила в д. Томсино (...</td>\n",
       "      <td>10453</td>\n",
       "    </tr>\n",
       "    <tr>\n",
       "      <th>116</th>\n",
       "      <td>АНТ</td>\n",
       "      <td>Андреевна Нина Тимофеевна</td>\n",
       "      <td>Себеж</td>\n",
       "      <td>1936 г.р., род. в д. Литвиново (Себежского р-н...</td>\n",
       "      <td>10452</td>\n",
       "    </tr>\n",
       "    <tr>\n",
       "      <th>115</th>\n",
       "      <td>ИНП</td>\n",
       "      <td>Испавская Нина Петровна</td>\n",
       "      <td>Себеж</td>\n",
       "      <td>1936 г.р., род. в д. Кобылинцы Верхнедвинского...</td>\n",
       "      <td>10451</td>\n",
       "    </tr>\n",
       "    <tr>\n",
       "      <th>114</th>\n",
       "      <td>ТА</td>\n",
       "      <td>Тарасов Алексей</td>\n",
       "      <td>Чернея</td>\n",
       "      <td>1986 г.р., род. в д. Глембочино, живет в д. Че...</td>\n",
       "      <td>10450</td>\n",
       "    </tr>\n",
       "    <tr>\n",
       "      <th>...</th>\n",
       "      <td>...</td>\n",
       "      <td>...</td>\n",
       "      <td>...</td>\n",
       "      <td>...</td>\n",
       "      <td>...</td>\n",
       "    </tr>\n",
       "    <tr>\n",
       "      <th>149</th>\n",
       "      <td>РНП</td>\n",
       "      <td>Рожкова Наталья Петровна</td>\n",
       "      <td>Рогов</td>\n",
       "      <td>Примерно 1960 г.р., род. в Почепском р-не. В 1...</td>\n",
       "      <td>9842</td>\n",
       "    </tr>\n",
       "    <tr>\n",
       "      <th>148</th>\n",
       "      <td>ЦНМ</td>\n",
       "      <td>Цупиков Николай Матвеевич</td>\n",
       "      <td>Рогов</td>\n",
       "      <td>Примерно 1950 г.р., род. в с. Рогов. Жил в Лен...</td>\n",
       "      <td>9841</td>\n",
       "    </tr>\n",
       "    <tr>\n",
       "      <th>147</th>\n",
       "      <td>ЦНИ</td>\n",
       "      <td>Цупикова Нина Ивановна</td>\n",
       "      <td>Рогов</td>\n",
       "      <td>1956 г.р., род. в с. Рогов. Училась на повара....</td>\n",
       "      <td>9840</td>\n",
       "    </tr>\n",
       "    <tr>\n",
       "      <th>146</th>\n",
       "      <td>М</td>\n",
       "      <td>Мария</td>\n",
       "      <td>Рогов</td>\n",
       "      <td>Примерно 1985 г.р., дочь ЛО</td>\n",
       "      <td>9839</td>\n",
       "    </tr>\n",
       "    <tr>\n",
       "      <th>145</th>\n",
       "      <td>ЛО</td>\n",
       "      <td>Одинцова Лидия</td>\n",
       "      <td>Рогов</td>\n",
       "      <td>1960 г.р. Жила на Дальнем Востоке, вернулась в...</td>\n",
       "      <td>9838</td>\n",
       "    </tr>\n",
       "  </tbody>\n",
       "</table>\n",
       "<p>369 rows × 5 columns</p>\n",
       "</div>"
      ],
      "text/plain": [
       "    инициалы                         ФИО    село  \\\n",
       "118      КТП  Кадовская Татьяна Павловна   Себеж   \n",
       "117      ГВП  Горская Валентина Петровна   Себеж   \n",
       "116      АНТ   Андреевна Нина Тимофеевна   Себеж   \n",
       "115      ИНП     Испавская Нина Петровна   Себеж   \n",
       "114       ТА             Тарасов Алексей  Чернея   \n",
       "..       ...                         ...     ...   \n",
       "149      РНП    Рожкова Наталья Петровна   Рогов   \n",
       "148      ЦНМ   Цупиков Николай Матвеевич   Рогов   \n",
       "147      ЦНИ      Цупикова Нина Ивановна   Рогов   \n",
       "146        М                       Мария   Рогов   \n",
       "145       ЛО             Одинцова Лидия    Рогов   \n",
       "\n",
       "                                             биография  \\\n",
       "118  1933 г.р., род. в Мордовии, жила в Якутии: в Я...   \n",
       "117  1944 г.р., род. на Кубани, жила в д. Томсино (...   \n",
       "116  1936 г.р., род. в д. Литвиново (Себежского р-н...   \n",
       "115  1936 г.р., род. в д. Кобылинцы Верхнедвинского...   \n",
       "114  1986 г.р., род. в д. Глембочино, живет в д. Че...   \n",
       "..                                                 ...   \n",
       "149  Примерно 1960 г.р., род. в Почепском р-не. В 1...   \n",
       "148  Примерно 1950 г.р., род. в с. Рогов. Жил в Лен...   \n",
       "147  1956 г.р., род. в с. Рогов. Училась на повара....   \n",
       "146                        Примерно 1985 г.р., дочь ЛО   \n",
       "145  1960 г.р. Жила на Дальнем Востоке, вернулась в...   \n",
       "\n",
       "     порядковый номер информанта  \n",
       "118                        10454  \n",
       "117                        10453  \n",
       "116                        10452  \n",
       "115                        10451  \n",
       "114                        10450  \n",
       "..                           ...  \n",
       "149                         9842  \n",
       "148                         9841  \n",
       "147                         9840  \n",
       "146                         9839  \n",
       "145                         9838  \n",
       "\n",
       "[369 rows x 5 columns]"
      ]
     },
     "execution_count": 83,
     "metadata": {},
     "output_type": "execute_result"
    }
   ],
   "source": [
    "informators = informators.sort_values(by='порядковый номер информанта', ascending=False)\n",
    "informators"
   ]
  },
  {
   "cell_type": "code",
   "execution_count": null,
   "metadata": {},
   "outputs": [],
   "source": []
  },
  {
   "cell_type": "code",
   "execution_count": 84,
   "metadata": {},
   "outputs": [
    {
     "data": {
      "text/plain": [
       "Себеж                       91\n",
       "Рогов                       69\n",
       "Спиридонова Буда            66\n",
       "Малые Щербиничи             33\n",
       "Карпиловка                  20\n",
       "Большие Щербиничи           15\n",
       "Азаричи                     12\n",
       "Шурубовка                   11\n",
       "Еловка                       8\n",
       "Эпимахово                    8\n",
       "Новобежков                   7\n",
       "Чернея                       6\n",
       "Софиевка                     5\n",
       "Глембочино                   5\n",
       "Бондари                      4\n",
       "Кривуша (= Зелёная Роща)     2\n",
       "Дворищи                      2\n",
       "Белогурово                   1\n",
       "Комары                       1\n",
       "Мадые Щербиничи              1\n",
       "Букатино                     1\n",
       "Глубочица                    1\n",
       "Name: село, dtype: int64"
      ]
     },
     "execution_count": 84,
     "metadata": {},
     "output_type": "execute_result"
    }
   ],
   "source": [
    "informators['село'].value_counts()"
   ]
  },
  {
   "cell_type": "code",
   "execution_count": 85,
   "metadata": {},
   "outputs": [
    {
     "data": {
      "text/html": [
       "<div>\n",
       "<style scoped>\n",
       "    .dataframe tbody tr th:only-of-type {\n",
       "        vertical-align: middle;\n",
       "    }\n",
       "\n",
       "    .dataframe tbody tr th {\n",
       "        vertical-align: top;\n",
       "    }\n",
       "\n",
       "    .dataframe thead th {\n",
       "        text-align: right;\n",
       "    }\n",
       "</style>\n",
       "<table border=\"1\" class=\"dataframe\">\n",
       "  <thead>\n",
       "    <tr style=\"text-align: right;\">\n",
       "      <th></th>\n",
       "      <th>ФИО</th>\n",
       "    </tr>\n",
       "    <tr>\n",
       "      <th>инициалы</th>\n",
       "      <th></th>\n",
       "    </tr>\n",
       "  </thead>\n",
       "  <tbody>\n",
       "    <tr>\n",
       "      <th>В</th>\n",
       "      <td>3</td>\n",
       "    </tr>\n",
       "    <tr>\n",
       "      <th>А</th>\n",
       "      <td>3</td>\n",
       "    </tr>\n",
       "    <tr>\n",
       "      <th>ЛП</th>\n",
       "      <td>3</td>\n",
       "    </tr>\n",
       "    <tr>\n",
       "      <th>ВА</th>\n",
       "      <td>3</td>\n",
       "    </tr>\n",
       "    <tr>\n",
       "      <th>КАИ</th>\n",
       "      <td>2</td>\n",
       "    </tr>\n",
       "    <tr>\n",
       "      <th>...</th>\n",
       "      <td>...</td>\n",
       "    </tr>\n",
       "    <tr>\n",
       "      <th>КВП</th>\n",
       "      <td>1</td>\n",
       "    </tr>\n",
       "    <tr>\n",
       "      <th>КАП</th>\n",
       "      <td>1</td>\n",
       "    </tr>\n",
       "    <tr>\n",
       "      <th>КАН</th>\n",
       "      <td>1</td>\n",
       "    </tr>\n",
       "    <tr>\n",
       "      <th>КАК</th>\n",
       "      <td>1</td>\n",
       "    </tr>\n",
       "    <tr>\n",
       "      <th>ЯМА</th>\n",
       "      <td>1</td>\n",
       "    </tr>\n",
       "  </tbody>\n",
       "</table>\n",
       "<p>340 rows × 1 columns</p>\n",
       "</div>"
      ],
      "text/plain": [
       "          ФИО\n",
       "инициалы     \n",
       "В           3\n",
       "А           3\n",
       "ЛП          3\n",
       "ВА          3\n",
       "КАИ         2\n",
       "...       ...\n",
       "КВП         1\n",
       "КАП         1\n",
       "КАН         1\n",
       "КАК         1\n",
       "ЯМА         1\n",
       "\n",
       "[340 rows x 1 columns]"
      ]
     },
     "execution_count": 85,
     "metadata": {},
     "output_type": "execute_result"
    }
   ],
   "source": [
    "informators.groupby('инициалы').agg({'ФИО': 'count'}).sort_values('ФИО', ascending=False)"
   ]
  },
  {
   "cell_type": "code",
   "execution_count": null,
   "metadata": {},
   "outputs": [],
   "source": []
  },
  {
   "cell_type": "code",
   "execution_count": 87,
   "metadata": {},
   "outputs": [],
   "source": [
    "# cards['село'].value_counts()"
   ]
  },
  {
   "cell_type": "code",
   "execution_count": 88,
   "metadata": {},
   "outputs": [
    {
     "data": {
      "image/png": "[encoded data removed]",
      "text/plain": [
       "<Figure size 432x288 with 1 Axes>"
      ]
     },
     "metadata": {
      "needs_background": "light"
     },
     "output_type": "display_data"
    }
   ],
   "source": [
    "informators['порядковый номер информанта'].sort_values().reset_index().plot();"
   ]
  },
  {
   "cell_type": "code",
   "execution_count": 94,
   "metadata": {},
   "outputs": [
    {
     "data": {
      "text/html": [
       "<div>\n",
       "<style scoped>\n",
       "    .dataframe tbody tr th:only-of-type {\n",
       "        vertical-align: middle;\n",
       "    }\n",
       "\n",
       "    .dataframe tbody tr th {\n",
       "        vertical-align: top;\n",
       "    }\n",
       "\n",
       "    .dataframe thead th {\n",
       "        text-align: right;\n",
       "    }\n",
       "</style>\n",
       "<table border=\"1\" class=\"dataframe\">\n",
       "  <thead>\n",
       "    <tr style=\"text-align: right;\">\n",
       "      <th></th>\n",
       "      <th>инициалы</th>\n",
       "      <th>ФИО</th>\n",
       "      <th>село</th>\n",
       "      <th>биография</th>\n",
       "      <th>порядковый номер информанта</th>\n",
       "    </tr>\n",
       "  </thead>\n",
       "  <tbody>\n",
       "    <tr>\n",
       "      <th>85</th>\n",
       "      <td>ПАВ</td>\n",
       "      <td>Прокофьева Анна Васильевна</td>\n",
       "      <td>Бондари</td>\n",
       "      <td>1929 г.р., род и живет в д. Бондари. 29 лет ра...</td>\n",
       "      <td>10421</td>\n",
       "    </tr>\n",
       "  </tbody>\n",
       "</table>\n",
       "</div>"
      ],
      "text/plain": [
       "   инициалы                         ФИО     село  \\\n",
       "85      ПАВ  Прокофьева Анна Васильевна  Бондари   \n",
       "\n",
       "                                            биография  \\\n",
       "85  1929 г.р., род и живет в д. Бондари. 29 лет ра...   \n",
       "\n",
       "    порядковый номер информанта  \n",
       "85                        10421  "
      ]
     },
     "execution_count": 94,
     "metadata": {},
     "output_type": "execute_result"
    }
   ],
   "source": [
    "informators[informators['инициалы'] == 'ПАВ']"
   ]
  },
  {
   "cell_type": "code",
   "execution_count": 117,
   "metadata": {},
   "outputs": [],
   "source": [
    "values = []\n",
    "for i in ['информант', 'информант2', 'информант3', 'информант4']:\n",
    "    values.extend(cards[['номер', i]].dropna().values.tolist())"
   ]
  },
  {
   "cell_type": "code",
   "execution_count": 114,
   "metadata": {},
   "outputs": [],
   "source": [
    "changed = {\n",
    "    \"ЮС\": \"ЮГС\",\n",
    "    \"ГРВ\": \"ГВР\",\n",
    "    \"ЧВФ\": \"ЧФВ\",\n",
    "    \"ПВА\": \"ПАВ\",\n",
    "}"
   ]
  },
  {
   "cell_type": "code",
   "execution_count": 122,
   "metadata": {},
   "outputs": [],
   "source": [
    "data = []\n",
    "for j, i in values:\n",
    "    if i is not None and \"?\" not in i:\n",
    "        n = i.strip()\n",
    "        if n in changed:\n",
    "            n = changed[n]\n",
    "        data.append((texts[str(j)], informators[n]))"
   ]
  },
  {
   "cell_type": "code",
   "execution_count": 124,
   "metadata": {},
   "outputs": [],
   "source": [
    "cur.executemany(\"INSERT INTO t_i (id_text, id_informator) VALUES (%s, %s)\", data)\n",
    "db.commit()"
   ]
  },
  {
   "cell_type": "markdown",
   "metadata": {},
   "source": [
    "#### Информация"
   ]
  },
  {
   "cell_type": "code",
   "execution_count": 138,
   "metadata": {},
   "outputs": [],
   "source": [
    "from pymystem3 import Mystem\n",
    "m = Mystem()\n",
    "m._mystemargs.append('--eng-gr')"
   ]
  },
  {
   "cell_type": "code",
   "execution_count": 139,
   "metadata": {},
   "outputs": [],
   "source": [
    "def g_name(name):\n",
    "    global m\n",
    "    res = m.analyze(name)\n",
    "    fem, mal = 0, 0\n",
    "    if len(res) == 6:\n",
    "        res = res[2:]\n",
    "    for i in res:\n",
    "        if 'analysis' in i:\n",
    "            try:\n",
    "                if ',f,' in i['analysis'][0]['gr']:\n",
    "                    fem += 1\n",
    "                elif ',m,' in i['analysis'][0]['gr']:\n",
    "                    mal += 1\n",
    "            except:\n",
    "                pass\n",
    "    if fem > 0 and mal == 0:\n",
    "        return 'f'\n",
    "    elif fem == 0 and mal > 0:\n",
    "        return 'm'\n",
    "    else:\n",
    "        return None"
   ]
  },
  {
   "cell_type": "code",
   "execution_count": 143,
   "metadata": {},
   "outputs": [],
   "source": [
    "cur.execute(\"SELECT id, name, bio FROM informators WHERE id > 304;\")\n",
    "data = cur.fetchall()"
   ]
  },
  {
   "cell_type": "code",
   "execution_count": 144,
   "metadata": {},
   "outputs": [],
   "source": [
    "gender = []\n",
    "for i, n, b in data:\n",
    "    gender.append((g_name(n), i))"
   ]
  },
  {
   "cell_type": "code",
   "execution_count": 145,
   "metadata": {},
   "outputs": [],
   "source": [
    "cur.executemany(\"UPDATE informators SET gender = %s WHERE id = %s\", gender)\n",
    "db.commit()"
   ]
  },
  {
   "cell_type": "code",
   "execution_count": 154,
   "metadata": {},
   "outputs": [],
   "source": [
    "def birthyear(text):\n",
    "    yrs = re.findall(\"[0-9]{4}\", text)\n",
    "#     print(yrs)\n",
    "    if len(yrs) > 0:\n",
    "        yr = min(int(i) for i in yrs)\n",
    "        return yr"
   ]
  },
  {
   "cell_type": "code",
   "execution_count": 155,
   "metadata": {},
   "outputs": [],
   "source": [
    "yrs = []\n",
    "for i, n, b in data:\n",
    "    yrs.append((birthyear(b), i))"
   ]
  },
  {
   "cell_type": "code",
   "execution_count": 157,
   "metadata": {},
   "outputs": [],
   "source": [
    "cur.executemany(\"UPDATE informators SET birth_year = %s WHERE id = %s\", yrs)\n",
    "db.commit()"
   ]
  }
 ],
 "metadata": {
  "kernelspec": {
   "display_name": "Python 3",
   "language": "python",
   "name": "python3"
  },
  "language_info": {
   "codemirror_mode": {
    "name": "ipython",
    "version": 3
   },
   "file_extension": ".py",
   "mimetype": "text/x-python",
   "name": "python",
   "nbconvert_exporter": "python",
   "pygments_lexer": "ipython3",
   "version": "3.6.9"
  }
 },
 "nbformat": 4,
 "nbformat_minor": 2
}
