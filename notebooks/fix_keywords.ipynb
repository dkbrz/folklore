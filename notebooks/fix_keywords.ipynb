{
 "cells": [
  {
   "cell_type": "code",
   "execution_count": 1,
   "metadata": {},
   "outputs": [],
   "source": [
    "import pandas as pd\n",
    "import re\n",
    "import os"
   ]
  },
  {
   "cell_type": "code",
   "execution_count": 56,
   "metadata": {},
   "outputs": [],
   "source": [
    "import mysql.connector\n",
    "db = mysql.connector.connect(user='root', password='password', database='folklore_db2')\n",
    "cur = db.cursor()"
   ]
  },
  {
   "cell_type": "code",
   "execution_count": 3,
   "metadata": {},
   "outputs": [],
   "source": [
    "from numpy import nan\n",
    "from collections import namedtuple\n",
    "import time\n",
    "from IPython.display import clear_output\n",
    "\n",
    "from pymystem3 import Mystem\n",
    "m = Mystem()"
   ]
  },
  {
   "cell_type": "code",
   "execution_count": 4,
   "metadata": {},
   "outputs": [],
   "source": [
    "filelist = os.listdir('./txt/')"
   ]
  },
  {
   "cell_type": "code",
   "execution_count": 6,
   "metadata": {},
   "outputs": [],
   "source": [
    "def split_text(text):\n",
    "    result = re.findall('^(.*?Ключевые.*?\\n[\\nА-Яа-я0-9\\- ;]+?\\n)(.*?)$', text, re.DOTALL)\n",
    "    return result"
   ]
  },
  {
   "cell_type": "code",
   "execution_count": 7,
   "metadata": {},
   "outputs": [],
   "source": [
    "def find_keywords(meta):\n",
    "    result = [i.strip().capitalize() for i in re.findall('Ключевые слова:(.*?)\\n', meta)[0].split(',')]\n",
    "    if len(result) == 1 and len(result[0])<2:\n",
    "        return None\n",
    "    else:\n",
    "        return result"
   ]
  },
  {
   "cell_type": "code",
   "execution_count": 8,
   "metadata": {},
   "outputs": [
    {
     "data": {
      "text/plain": [
       "['Календарь', 'Купание', 'Запрет', 'Ильин день', 'Духов день', 'Троица']"
      ]
     },
     "execution_count": 8,
     "metadata": {},
     "output_type": "execute_result"
    }
   ],
   "source": [
    "find_keywords('Календарный обряд. Ильин день. Духов день. Троица \\n32:10-32:54\\nКлючевые слова: календарь, купание, запрет, Ильин день, Духов день, Троица\\nСРВ-1935-МН-2018')"
   ]
  },
  {
   "cell_type": "code",
   "execution_count": 9,
   "metadata": {},
   "outputs": [],
   "source": [
    "cur.execute('SELECT id, word FROM keywords')\n",
    "d_key = {}\n",
    "for i in cur.fetchall():\n",
    "    d_key[i[1]] = i[0]"
   ]
  },
  {
   "cell_type": "code",
   "execution_count": 13,
   "metadata": {},
   "outputs": [],
   "source": [
    "def read_text(path):\n",
    "    try:\n",
    "        with open(path, encoding='utf-8') as f:\n",
    "            return f.read()\n",
    "    except:\n",
    "        with open(path, encoding='cp1251') as f:\n",
    "            return f.read()"
   ]
  },
  {
   "cell_type": "code",
   "execution_count": 43,
   "metadata": {},
   "outputs": [],
   "source": [
    "folders = [\n",
    "    '/home/dkbrz/Downloads/НАДЯ ФАЙЛЫ(с кодами исполнителей)-20191117T144444Z-001',\n",
    "    '/home/dkbrz/Downloads/Настя файлы(с кодами исполнителей)-20191117T144509Z-001',\n",
    "    '/home/dkbrz/Downloads/Аня файлы(с кодами исполнителей)-20191117T144709Z-001',\n",
    "    '/home/dkbrz/Downloads/Маша файлы(с кодами исполнителей)-20191117T144541Z-001'\n",
    "]"
   ]
  },
  {
   "cell_type": "code",
   "execution_count": 73,
   "metadata": {},
   "outputs": [
    {
     "name": "stdout",
     "output_type": "stream",
     "text": [
      "Архив ВШЭ – ФЭ – 37 – 20 – 2018 – 40.txt\n",
      "Архив ВШЭ – ФЭ – 37 – 20 – 2018 – 43.txt\n",
      "Архив ВШЭ – ФЭ – 37 – 20 – 2018 – 67.txt\n",
      "Архив ВШЭ – ФЭ – 37 – 20 – 2018 – 36.txt\n",
      "Архив ВШЭ – ФЭ – 37 – 20 – 2018 – 26.txt\n",
      "Архив ВШЭ – ФЭ – 37 – 20 – 2018 – 69.txt\n",
      "Архив ВШЭ – ФЭ – 37 – 20 – 2018 – 45.txt\n",
      "! Архив ВШЭ – Э – 37 – 20 – 2018 – 434.txt\n",
      "[]\n"
     ]
    }
   ],
   "source": [
    "mapping = {}\n",
    "\n",
    "for folder in folders:\n",
    "    for root, _, files in os.walk(folder):\n",
    "        for f in files:\n",
    "            text = read_text(os.path.join(root, f))\n",
    "            result = split_text(text)\n",
    "            try:\n",
    "                result = find_keywords(result[0][0])\n",
    "                if result is None:\n",
    "                    print(f)\n",
    "                else:\n",
    "                    mapping[f] = result\n",
    "            except:\n",
    "                print('!', f)\n",
    "                print(result)"
   ]
  },
  {
   "cell_type": "code",
   "execution_count": 74,
   "metadata": {},
   "outputs": [],
   "source": [
    "mapping['Архив ВШЭ – Э – 37 – 20 – 2018 – 434.txt'] = [\n",
    "    'календарь', 'купание', 'запрет', 'Ильин день', 'Духов день', 'Троица'\n",
    "]"
   ]
  },
  {
   "cell_type": "code",
   "execution_count": 75,
   "metadata": {},
   "outputs": [],
   "source": [
    "def clean_name(name):\n",
    "    return name.replace('.txt', '')"
   ]
  },
  {
   "cell_type": "code",
   "execution_count": 76,
   "metadata": {},
   "outputs": [],
   "source": [
    "new_name_mapping = {\n",
    "    clean_name(key): value\n",
    "    for key, value in mapping.items()\n",
    "}"
   ]
  },
  {
   "cell_type": "code",
   "execution_count": 77,
   "metadata": {},
   "outputs": [],
   "source": [
    "cur.execute('SELECT old_id, id FROM texts')\n",
    "texts_name_to_id = {key: value for key, value in cur.fetchall()}"
   ]
  },
  {
   "cell_type": "code",
   "execution_count": 78,
   "metadata": {},
   "outputs": [],
   "source": [
    "for key in new_name_mapping:\n",
    "    if key not in texts_name_to_id:\n",
    "        print('-', key)\n",
    "#     else:\n",
    "#         print('+', key)"
   ]
  },
  {
   "cell_type": "code",
   "execution_count": 112,
   "metadata": {},
   "outputs": [],
   "source": [
    "misspell = {\"Благословение\":\"Благословлять\",\"Быличка\":\"Былички\",\"Вербное воскресенье\":\"Вербное воскресение\",\"Воскресенье\":\"Воскресенье (день недели)\",\"Гад\":\"Гады\",\"Гадание\":\"Гадания\",\"Гуляние\":\"Гулять\",\"Гулянь\":\"Гулять\",\"Духовные стихи.\":\"Духовные стихи\",\"Жаворонки\":\"Жаворонок\",\"Жена\":\"Супруги\",\"Заговор\":\"Заговоры\",\"Запрет\":\"Запреты\",\"Знахари\":\"Знахарь\",\"Иван купала\":\"Иван Купала\",\"Иконы\":\"Икона\",\"Каравай\":\"Коровай\",\"Кикиимора\":\"Кикимора\",\"Кладище\":\"Кладбище\",\"Колдуны\":\"Колдун\",\"Красный\":\"Красный цвет\",\"Крещение\":\"Крещенье (праздник)\",\"Крещенье\":\"Крещенье (праздник)\",\"Легенда\":\"Легенды\",\"Музыкальный инструмент\":\"Музыкальные инструменты\",\"Мыть\":\"Мытье\",\"Новороденный\":\"Новорожденный\",\"Оберег\":\"Обереги\",\"Обмывание\":\"Обмывание покойника\",\"Осыпать\":\"Осыпание\",\"Песня\":\"Песни\",\"Петр и павел\":\"Петр и Павел\",\"Петра и павла день\":\"Петра и Павла день\",\"Петух 31:07-36:26\":\"Петух\",\"Покойники\":\"Покойник\",\"Покров\":\"Покров (календ.)\",\"Поминальный дни\":\"Поминальные дни\",\"Праздник\":\"Праздники\",\"Предание\":\"Предания\",\"Предание топоним.\":\"Предания топоним.\",\"Предания топоним\":\"Предания топоним.\",\"Приговор\":\"Приговоры\",\"Примета\":\"Приметы\",\"Прозвища\":\"Прозвище\",\"Птица\":\"Птицы\",\"Радоница\":\"Радуница\",\"Рождество богородицы\":\"Рождество Богородицы\",\"Ряжение\":\"Ряженье\",\"Свечаэ=\":\"Свеча\",\"Святой\":\"Святые\",\"Смерть\":\"Жизнь-смерть\",\"Сновидение\":\"Сновидения\",\"Соседи\":\"Сосед\",\"Танцевать\":\"Танец\",\"Угощать\":\"Угощение\",\"Урожай\":\"Урожай-неурожай\",\"Успение богородицы\":\"Успение Богородицы\",\"Шутка\":\"Шутки\",\"Яйца\":\"Яйцо\", \"Бывальщина\":\"Былички\",\"Егорьев день\":\"Юрьев день\",\"Егорьер день\":\"Юрьев день\",\"Застолье\":\"Трапеза ритуальная\",\"Знамение\":\"Знак-знамение\",\"Игры\":\"Игры фольк.\",\"Коса\":\"Коса (волосы)\",\"Лук\":\"Лук (раст.)\",\"Мальчишник\":\"Девичник\",\"Молодые\":\"Молодожены\",\"Муж\":\"Супруги\",\"Обрядовое деревце\":\"Деревце обрядовое\",\"Петровский обряд\":\"Петра и Павла день\",\"Плач\":\"Причитания\",\"Поминание\":\"Поминальные дни\",\"хороны\":\"Похоронный обряд\",\"Рассказ о прошлом\":\"Устная история\",\"Ритуальная речь\":\"Говорить\",\"Родственники\":\"Родство\",\"Ряженые\":\"Ряженье\",\"Ряженый\":\"Ряженье\",\"Свадебный\":\"Свадебный обряд\",\"Свадьба\":\"Свадебный обряд\",\"Сваты\":[\"Сват\", \"Сваха\"], \"Гора, лес\":[\"Гора\", \"Лес\"], \"Семья\":[\"Родство\",\"Супруги\"],\"Стихи\":\"Народная литература\",\"Частушка\":\"Песни\", \"Молодой\":\"Молодой-старый\", 'Похороны':'Похоронный обряд', 'Гора лес':['Гора', 'Лес'], 'Осыпать': 'Осыпание'}"
   ]
  },
  {
   "cell_type": "code",
   "execution_count": 113,
   "metadata": {},
   "outputs": [],
   "source": [
    "d_key_low = {key.lower(): value for key, value in d_key.items()}"
   ]
  },
  {
   "cell_type": "code",
   "execution_count": 114,
   "metadata": {},
   "outputs": [],
   "source": [
    "def get_part(text_name, mapping_res):\n",
    "    if mapping_res is None:\n",
    "        return []\n",
    "    res = []\n",
    "    for kw in mapping_res:\n",
    "        if kw.lower() in d_key_low:\n",
    "            res.append([d_key_low[kw.lower()], texts_name_to_id[text_name]])\n",
    "        elif kw in misspell:\n",
    "            r = misspell[kw]\n",
    "            if type(r) == list:\n",
    "                for w in r:\n",
    "                    res.append([d_key_low[w.lower()], texts_name_to_id[text_name]])\n",
    "            else:\n",
    "                #try:\n",
    "                    res.append([d_key_low[r.lower()], texts_name_to_id[text_name]])\n",
    "                #exx\n",
    "    return res"
   ]
  },
  {
   "cell_type": "code",
   "execution_count": 115,
   "metadata": {},
   "outputs": [
    {
     "data": {
      "text/plain": [
       "[[181, 4142], [487, 4142]]"
      ]
     },
     "execution_count": 115,
     "metadata": {},
     "output_type": "execute_result"
    }
   ],
   "source": [
    "get_part('Архив ВШЭ – Э – 37 – 20 – 2018 – 434', ['Гора лес'])"
   ]
  },
  {
   "cell_type": "code",
   "execution_count": 116,
   "metadata": {},
   "outputs": [],
   "source": [
    "data = []\n",
    "for key in new_name_mapping:\n",
    "    res = get_part(key, new_name_mapping[key])\n",
    "    data.extend(res)"
   ]
  },
  {
   "cell_type": "code",
   "execution_count": 118,
   "metadata": {},
   "outputs": [
    {
     "data": {
      "text/plain": [
       "2660"
      ]
     },
     "execution_count": 118,
     "metadata": {},
     "output_type": "execute_result"
    }
   ],
   "source": [
    "len(data)"
   ]
  },
  {
   "cell_type": "code",
   "execution_count": 120,
   "metadata": {},
   "outputs": [],
   "source": [
    "cur.executemany('INSERT t_k (id_keyword, id_text) VALUES (%s, %s)', data)"
   ]
  },
  {
   "cell_type": "code",
   "execution_count": 121,
   "metadata": {},
   "outputs": [],
   "source": [
    "db.commit()"
   ]
  },
  {
   "cell_type": "code",
   "execution_count": null,
   "metadata": {},
   "outputs": [],
   "source": []
  }
 ],
 "metadata": {
  "kernelspec": {
   "display_name": "Python 3",
   "language": "python",
   "name": "python3"
  },
  "language_info": {
   "codemirror_mode": {
    "name": "ipython",
    "version": 3
   },
   "file_extension": ".py",
   "mimetype": "text/x-python",
   "name": "python",
   "nbconvert_exporter": "python",
   "pygments_lexer": "ipython3",
   "version": "3.6.9"
  }
 },
 "nbformat": 4,
 "nbformat_minor": 2
}
